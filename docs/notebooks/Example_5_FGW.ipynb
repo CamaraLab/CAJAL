{
 "cells": [
  {
   "cell_type": "markdown",
   "metadata": {},
   "source": [
    "Tutorial 5: Fused Gromov-Wasserstein distances with segmented image files\n",
    "=========================================================================\n",
    "\n",
    "Fused Gromov-Wasserstein is a variant of Gromov-Wasserstein which associates to each point in the two cells a feature vector, and tries to match points in the two cells with similar feature vectors.\n",
    "In this tutorial, we illustrate an application of Fused GW where we process two-dimensional segmented images, imaged with multiple channels, and align cells in a way that attempts to align points with similar levels of each cell intensity.\n",
    "\n",
    "Here, rather than analyze individual cells, we will analyze gastruloid images. We start by reading the cell data into memory and casting it into the appropriate format. This basic file IO code varies by application."
   ]
  },
  {
   "cell_type": "code",
   "execution_count": 1,
   "metadata": {},
   "outputs": [],
   "source": [
    "from os.path import join\n",
    "import numpy as np\n",
    "from tqdm import tqdm\n",
    "import skimage.io as skio\n",
    "\n",
    "def process_gastroid_images(data_path, dataset_dir, gastr_meta, im_fname_pre, im_fname_suf):\n",
    "    image_gastrs = []\n",
    "    gastr_metadata_list = []\n",
    "\n",
    "    for ann in tqdm(gastr_meta['annotations']):\n",
    "        # load image\n",
    "        im_phase_path = join(data_path, dataset_dir, im_fname_pre + ann['location']['XY'] + im_fname_suf)\n",
    "        im_green_path = im_phase_path.replace('Phase', 'Green')\n",
    "        im_red_path = im_phase_path.replace('Phase', 'Red')\n",
    "        im_phase = skio.imread(im_phase_path)\n",
    "        im_green = skio.imread(im_green_path)\n",
    "        im_red = skio.imread(im_red_path)\n",
    "\n",
    "        nrow, ncol = im_green.shape\n",
    "\n",
    "        image_intensities = np.stack((im_phase, im_green, im_red), axis=0)\n",
    "        mask_verts = np.stack([np.array((pt['x'], pt['y'])) for pt in ann['coordinates']], axis=0)\n",
    "        for row in mask_verts:\n",
    "            assert (0 <= row[0] and row[0] < nrow)\n",
    "            assert (0 <= row[1] and row[1] < ncol)\n",
    "\n",
    "        image_gastrs.append((image_intensities, mask_verts))\n",
    "\n",
    "        # save metadata\n",
    "        gastr_meta_i = {'clone':ann['tags'], \n",
    "                     'location_XY':[ann['location']['XY']],\n",
    "                     'location_Z':[ann['location']['Z']],\n",
    "                     'time':[ann['location']['Time']],\n",
    "                     'id':[ann['id']],\n",
    "                     'dataset_id':[ann['datasetId']],\n",
    "                     'dataset_dir':[dataset_dir], 'im_path':[im_green_path]\n",
    "                   }\n",
    "        gastr_metadata_list.append(gastr_meta_i)\n",
    "\n",
    "    return(image_gastrs, gastr_metadata_list)"
   ]
  },
  {
   "cell_type": "code",
   "execution_count": 2,
   "metadata": {},
   "outputs": [
    {
     "name": "stderr",
     "output_type": "stream",
     "text": [
      "  0%|          | 0/31 [00:00<?, ?it/s]"
     ]
    },
    {
     "name": "stderr",
     "output_type": "stream",
     "text": [
      "100%|██████████| 31/31 [00:01<00:00, 24.01it/s]\n"
     ]
    }
   ],
   "source": [
    "import os\n",
    "import json\n",
    "data_path = \"/home/jovyan/dropbox/Projects/PGC022_Spatial_Protein_GW/Data/Input Data - May 2024\"\n",
    "dataset_dir = 'Ewx_eWx_ewX_fixed/'\n",
    "im_fname_pre = 'Phase_EwxeWxewX_'\n",
    "im_fname_suf = '_1_00d00h00m.tif'\n",
    "# read gastruloid metadata and mask info from json file\n",
    "json_fname = next((fname for fname in os.listdir(join(data_path,dataset_dir)) if '.json' in fname))\n",
    "json_path = os.path.join(data_path, dataset_dir, json_fname)\n",
    "with open(json_path) as json_data:\n",
    "    gastr_meta = json.load(json_data)\n",
    "# process gastroid images\n",
    "image_gastrs, gastr_metadata_list = process_gastroid_images(data_path, dataset_dir, gastr_meta, im_fname_pre, im_fname_suf)"
   ]
  },
  {
   "cell_type": "markdown",
   "metadata": {},
   "source": [
    "`gastr_metadata_list` is irrelevant to the fused GW functionality, but will be useful later in the analysis. The important list is `image_gastrs`. Inspect `image_gastrs` to see what we need for each cell. Each element of the list `image_gastrs` is an ordered pair `(image_intensities, vertex_coords)`, where `image_intensities` is of shape `(3, nrow, ncol)` - it contains three color channels of an `nrow x ncol` dimensional image. `vertex_coords` is a list of polygon vertices of shape `(z,2)`, where `z` is the number of vertices in the bounding polygon for the cell.\n",
    "\n",
    "The basic class CAJAL provides for applying Fused GW to cell images is the `CellImage` class, and its constructor takes `image_intensities` and `vertex_coords` as arguments."
   ]
  },
  {
   "cell_type": "code",
   "execution_count": 3,
   "metadata": {},
   "outputs": [
    {
     "name": "stderr",
     "output_type": "stream",
     "text": [
      "100%|██████████| 31/31 [00:26<00:00,  1.16it/s]\n"
     ]
    }
   ],
   "source": [
    "from cajal.sample_seg import CellImage\n",
    "\n",
    "cell_list = list(tqdm( (CellImage(image_intensities, vertex_list, downsample=8) for (image_intensities, vertex_list) in image_gastrs ), total = len(image_gastrs)))"
   ]
  },
  {
   "cell_type": "markdown",
   "metadata": {},
   "source": [
    "Some of the cells are too small to give interesting results, and we filter these out of the list. We discard cells with fewer than five points."
   ]
  },
  {
   "cell_type": "code",
   "execution_count": 4,
   "metadata": {},
   "outputs": [],
   "source": [
    "cells = [ (cell, metadata) for (cell, metadata) in zip(cell_list, gastr_metadata_list) if cell.distance_matrix.shape[0] >= 5]\n",
    "cell_list, gastr_metadata_list = list(zip(*cells))"
   ]
  },
  {
   "cell_type": "markdown",
   "metadata": {},
   "source": [
    "Once we have all of the cells, we can standardize so that the distribution of pixel intensities across each channel has a standard deviation of one (across all cells)"
   ]
  },
  {
   "cell_type": "code",
   "execution_count": 5,
   "metadata": {},
   "outputs": [],
   "source": [
    "from cajal.sample_seg import normalize_across_cells\n",
    "normalize_across_cells(cell_list)"
   ]
  },
  {
   "cell_type": "code",
   "execution_count": 6,
   "metadata": {},
   "outputs": [],
   "source": [
    "from cajal.sample_seg import fused_gromov_wasserstein\n",
    "\n",
    "fgw= fused_gromov_wasserstein(cell_list[0], cell_list[1], channels=(1,2), log=True)"
   ]
  },
  {
   "cell_type": "code",
   "execution_count": 7,
   "metadata": {},
   "outputs": [
    {
     "name": "stderr",
     "output_type": "stream",
     "text": [
      "100%|██████████| 10/10 [00:21<00:00,  2.10s/it]\n"
     ]
    },
    {
     "data": {
      "text/plain": [
       "array([[   0.        ,  749.52240592,  313.31525804,  430.54228087,\n",
       "         312.05444085],\n",
       "       [ 749.52240592,    0.        ,  210.82831396, 1606.5842935 ,\n",
       "         718.72868684],\n",
       "       [ 313.31525804,  210.82831396,    0.        ,  787.26256275,\n",
       "         259.11088005],\n",
       "       [ 430.54228087, 1606.5842935 ,  787.26256275,    0.        ,\n",
       "         261.22256883],\n",
       "       [ 312.05444085,  718.72868684,  259.11088005,  261.22256883,\n",
       "           0.        ]])"
      ]
     },
     "execution_count": 7,
     "metadata": {},
     "output_type": "execute_result"
    }
   ],
   "source": [
    "from cajal.sample_seg import fused_gromov_wasserstein_parallel\n",
    "\n",
    "fused_gromov_wasserstein_parallel(cell_list[:5], channels=(1,2), alpha=0.5)"
   ]
  }
 ],
 "metadata": {
  "kernelspec": {
   "display_name": ".venv",
   "language": "python",
   "name": "python3"
  },
  "language_info": {
   "codemirror_mode": {
    "name": "ipython",
    "version": 3
   },
   "file_extension": ".py",
   "mimetype": "text/x-python",
   "name": "python",
   "nbconvert_exporter": "python",
   "pygments_lexer": "ipython3",
   "version": "3.12.5"
  }
 },
 "nbformat": 4,
 "nbformat_minor": 2
}
