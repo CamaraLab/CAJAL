{
 "cells": [
  {
   "cell_type": "markdown",
   "id": "d1147580-9d68-4f45-be25-7714cc5bb97e",
   "metadata": {},
   "source": [
    "Tutorial 4: Integrating Multimodal Data with Ternary Plots\n",
    "==========================================================\n",
    "\n",
    "In Tutorial 2, we showed how to use the Laplacian score to determine whether a cell feature varies throughout the morphology space. Here, we discuss another technique to relate morphological distances to other cell features; in particular, we relate morphological distances to electrophysiological and molecular features of the cells. This technique allows us to identify variation in cells which is reflected _well_ through at least one of the indicators, but is reflected _poorly_ in the other indicators. It thus reveals \"blind spots\" in one of the measurement techniques, demonstrating the failure of one of the modes to capture distinctions which are well-reflected in the other modes.\n",
    "\n",
    "Suppose that we have a set of cells $c_1,\\dots, c_n$, and we associate to each cell an electrophysiological feature vector $e_1,\\dots, e_n\\in\\mathbb{R}^k$, and a molecular feature vector $m_1,\\dots, m_n\\in \\mathbb{R}^s$. Both the sets $\\{e_1,\\dots, e_n\\}$ and $\\{m_1,\\dots, m_n\\}$ can be regarded as spaces, and we can interpret the distance $\\lVert e_i - e_j\\rVert$ as the difference between cells $c_i,c_j$ which is visible from the point of view of electrophysiology; likewise for the molecular feature vectors. Together with the Gromov-Wasserstein space of morphological distances, this gives three different manifestations of the cell space, where the notion of distance of each space reflects one aspect of the cell.\n",
    "\n",
    "Speaking broadly, we expect cells that are very different morphologically and very different electrophysiologically to be very different in their gene expression, as well. If there are many cell pairs in the data where large morphological and large electrophysiological distances aren't accompanied by large transcriptomic differences, it raises the question of why there is substantial variation in one variable not reflected in the others. For example, we might ask whether the transcriptomic methods are sufficiently comprehensive. This leads us to plot morphological, electrophysiological, and transcriptomic distances together.\n",
    "\n",
    "This tutorial follows the dataset from the paper [Phenotypic variation of transcriptomic cell types in mouse motor cortexl](https://www.nature.com/articles/s41586-020-2907-3) by Scala et. al.\n",
    "This [folder](https://www.dropbox.com/scl/fo/qqvbjfhitcaetxf4u6i87/h?rlkey=rn5xpegeden8sdmirjl1fav2j&dl=0) contains the SWC files and metadata we will use for the analysis; we refer to it below as `bd` for \"base directory\"."
   ]
  },
  {
   "cell_type": "code",
   "execution_count": 1,
   "id": "6c595246-6912-42d8-8fdd-176a1374b8f9",
   "metadata": {},
   "outputs": [],
   "source": [
    "import os\n",
    "import scipy\n",
    "from scipy.spatial.distance import squareform, pdist\n",
    "from os.path import join\n",
    "import pandas as pd\n",
    "from cajal.utilities import dist_mat_of_dict, read_gw_dists\n",
    "from cajal.ternary import ternary_distance\n",
    "\n",
    "import numpy as np\n",
    "from cajal import run_gw, sample_swc, swc\n",
    "\n",
    "bd = '/home/patn/dropbox/PGC012_Gromov_Wasserstein/Analyses/PGC012.a28/'"
   ]
  },
  {
   "cell_type": "markdown",
   "id": "c303cd48-48ba-4b05-93b6-d230bb8ce64f",
   "metadata": {},
   "source": [
    "As in the other tutorials, we compute the intracell distance matrices and then the Gromov-Wasserstein distance matrix."
   ]
  },
  {
   "cell_type": "code",
   "execution_count": 2,
   "id": "0d680270-58fd-4529-8aa2-6b94dd015a0e",
   "metadata": {},
   "outputs": [
    {
     "name": "stderr",
     "output_type": "stream",
     "text": [
      "100%|███████████████████████████████████████████████████████████████████████████████████████████████████████████████████████████████████████████████████████████████████████████████████████████████████████████████████████████████████████████████████████████████████████████████████████████████████████████████████████████████████████████████████████████████████████████████████████████████████▍| 644/645 [01:31<00:00,  7.06it/s]\n"
     ]
    },
    {
     "data": {
      "text/plain": [
       "[]"
      ]
     },
     "execution_count": 2,
     "metadata": {},
     "output_type": "execute_result"
    }
   ],
   "source": [
    "sample_swc.compute_icdm_all_geodesic(\n",
    "    infolder=join(bd,'swc'),\n",
    "    out_csv=join(bd,'geodesic_100_icdm.csv'),\n",
    "    n_sample=100,\n",
    "    num_processes=20,\n",
    "    preprocess=swc.preprocessor_geo([1,3,4])\n",
    ")"
   ]
  },
  {
   "cell_type": "code",
   "execution_count": 3,
   "id": "f15eb017-3114-49a2-a39f-3d25443c8bb3",
   "metadata": {},
   "outputs": [
    {
     "data": {
      "application/vnd.jupyter.widget-view+json": {
       "model_id": "3433f4c96a464501b88dcad29e3d14fd",
       "version_major": 2,
       "version_minor": 0
      },
      "text/plain": [
       "  0%|          | 0/207690 [00:00<?, ?it/s]"
      ]
     },
     "metadata": {},
     "output_type": "display_data"
    },
    {
     "data": {
      "text/plain": [
       "(array([[ 0.        , 41.50872827, 30.44856915, ..., 36.52807527,\n",
       "         35.49565752, 33.33158221],\n",
       "        [41.50872827,  0.        , 36.38626911, ..., 30.27160567,\n",
       "         36.05393378, 25.02308163],\n",
       "        [30.44856915, 36.38626911,  0.        , ..., 30.49769085,\n",
       "         30.84067168, 35.80320063],\n",
       "        ...,\n",
       "        [36.52807527, 30.27160567, 30.49769085, ...,  0.        ,\n",
       "         34.72089971, 23.26927649],\n",
       "        [35.49565752, 36.05393378, 30.84067168, ..., 34.72089971,\n",
       "          0.        , 35.45859098],\n",
       "        [33.33158221, 25.02308163, 35.80320063, ..., 23.26927649,\n",
       "         35.45859098,  0.        ]]),\n",
       " None)"
      ]
     },
     "execution_count": 3,
     "metadata": {},
     "output_type": "execute_result"
    }
   ],
   "source": [
    "run_gw.compute_gw_distance_matrix(\n",
    "    intracell_csv_loc=join(bd,'geodesic_100_icdm.csv'),\n",
    "    gw_dist_csv_loc=join(bd,'geodesic_100_gw.csv'),\n",
    "    num_processes=20,\n",
    "    verbose=True\n",
    ")"
   ]
  },
  {
   "cell_type": "markdown",
   "id": "b34095b1-0526-4247-909c-d3231cd1ec69",
   "metadata": {},
   "source": [
    "The file \"m1_patchseq_meta_data.csv\" contains the RNA families for the samples profiled in the study."
   ]
  },
  {
   "cell_type": "code",
   "execution_count": 4,
   "id": "b39f23e9-8f1a-4205-b292-274a4a766365",
   "metadata": {},
   "outputs": [
    {
     "name": "stdout",
     "output_type": "stream",
     "text": [
      "['ET' 'IT' 'Pvalb' 'Vip' 'Sst' 'Lamp5' 'CT' 'Sncg' 'NP']\n"
     ]
    }
   ],
   "source": [
    "metadata = pd.read_csv(join(bd,\"m1_patchseq_meta_data.csv\"), delimiter=\"\\t\", index_col=1)\n",
    "# Start with 1329 rows × 32 columns\n",
    "\n",
    "cells, gw_dist_dict = read_gw_dists(join(bd,'geodesic_100_gw.csv'),header=True)\n",
    "\n",
    "metadata = metadata.loc[cells]\n",
    "metadata = metadata.loc[metadata['RNA family']!='low quality']\n",
    "\n",
    "# Labels for the classifier\n",
    "print(metadata['RNA family'].unique())"
   ]
  },
  {
   "cell_type": "markdown",
   "id": "72376b5e-b82c-4801-b442-acd06702a0a3",
   "metadata": {},
   "source": [
    "The files containing electrophysiological data and the exon counts have been cleaned to discard samples containing NaN values."
   ]
  },
  {
   "cell_type": "code",
   "execution_count": 5,
   "id": "140c09fd-24db-48bc-9f1b-3ebfaa11adc8",
   "metadata": {},
   "outputs": [],
   "source": [
    "ephys_data = pd.read_csv(join(bd,'ephys_data.csv'),index_col='cell id')\n",
    "exon_data = pd.read_csv(join(bd,'exon_data.csv'), index_col='cell id')"
   ]
  },
  {
   "cell_type": "markdown",
   "id": "a4691a87-9592-4b3d-8e43-3bb4854b2b33",
   "metadata": {},
   "source": [
    "We restrict to the samples for which we have all threee - morphological data, exon counts, and electrophysiology data."
   ]
  },
  {
   "cell_type": "code",
   "execution_count": 6,
   "id": "a2cb34f3-a84c-4801-af70-4649d5cebca0",
   "metadata": {},
   "outputs": [],
   "source": [
    "common_cells = list(set(metadata.index).intersection(set(exon_data.index)).intersection(ephys_data.index))\n",
    "metadata = metadata.loc[common_cells]\n",
    "exon_data = exon_data.loc[common_cells]\n",
    "ephys_data = ephys_data.loc[common_cells]"
   ]
  },
  {
   "cell_type": "markdown",
   "id": "e49170e2-23ea-4016-953c-2aca5da9b545",
   "metadata": {},
   "source": [
    "We normalize the columns in the electrophysiology data so that they have mean 0 and standard deviation 1.\n",
    "The \"distance\" in the electrophysiology space between two samples is defined to be 1 minus the Pearson correlation coefficient between the data for the samples. This is not a metric, but it is a common technique."
   ]
  },
  {
   "cell_type": "code",
   "execution_count": 7,
   "id": "5c840d3d-ca7f-4bc2-ba36-eab2c878ed8d",
   "metadata": {},
   "outputs": [],
   "source": [
    "ephys_data = (ephys_data - ephys_data.mean())\n",
    "ephys_data /= ephys_data.std()\n",
    "ephys_dmat = (1-ephys_data.transpose().corr())"
   ]
  },
  {
   "cell_type": "markdown",
   "id": "7609d74a-c4eb-45b2-9369-05d67f9e3992",
   "metadata": {},
   "source": [
    "The following heuristic transformation is meant to narrow the long tails at the end of the distribution of exon counts.\n",
    "As with the electrophysiology data, we use \"correlation distance\" as our notion of dissimilarity between samples."
   ]
  },
  {
   "cell_type": "code",
   "execution_count": null,
   "id": "98ac851f-0e6f-41a4-8524-80e06a9717e9",
   "metadata": {},
   "outputs": [],
   "source": [
    "exon_data = np.log(5000 * exon_data + 1)\n",
    "exon_dmat = (1-((exon_data.transpose()).corr()))"
   ]
  },
  {
   "cell_type": "code",
   "execution_count": null,
   "id": "0da4cabb-c6d0-424a-9879-7508b4f86298",
   "metadata": {},
   "outputs": [],
   "source": [
    "def ternary_distance_RNA(RNA_family, gw_dist_dict, ephys_data, exon_dmat, metadata):\n",
    "    cell_ids = metadata.index[metadata['RNA family']== RNA_family]\n",
    "    exon_dmat_local = exon_dmat.loc[cell_ids][cell_ids]\n",
    "    ephys_dmat_local = ephys_dmat.loc[cell_ids][cell_ids]\n",
    "    gw_dmat_local = dist_mat_of_dict(gw_dist_dict,cell_ids)\n",
    "    ternary_distance(gw_dmat_local, 'GW', ephys_dmat_local, 'ephys', exon_dmat_local, 'exon', density_estimation = 'gaussian_kde', bins=5, contour_lines=4,alpha=.4, s=4)"
   ]
  },
  {
   "cell_type": "code",
   "execution_count": null,
   "id": "2453b36f-b3a9-4086-b952-dedfcfabe5da",
   "metadata": {},
   "outputs": [],
   "source": [
    "large_families = [ family for family in metadata['RNA family'].unique() if (metadata['RNA family'] == family).sum() >= 10 ]\n",
    "RNA_family = large_families[0] # Sst\n",
    "print(RNA_family)"
   ]
  },
  {
   "cell_type": "code",
   "execution_count": null,
   "id": "c3d882c7-e834-4a4e-aaf9-bca6c9d0f538",
   "metadata": {},
   "outputs": [],
   "source": [
    "ternary_distance_RNA(large_families[0], gw_dist_dict, ephys_dmat, exon_dmat, metadata)"
   ]
  },
  {
   "cell_type": "code",
   "execution_count": null,
   "id": "54908375-bedd-4efb-8172-239018b86056",
   "metadata": {},
   "outputs": [],
   "source": [
    "ternary_distance_RNA(large_families[1], gw_dist_dict, ephys_dmat, exon_dmat, metadata)"
   ]
  },
  {
   "cell_type": "code",
   "execution_count": null,
   "id": "a112c086-e296-4c9b-888a-ec9c3ad3c88b",
   "metadata": {},
   "outputs": [],
   "source": [
    "ternary_distance_RNA(large_families[2], gw_dist_dict, ephys_dmat, exon_dmat, metadata)"
   ]
  },
  {
   "cell_type": "code",
   "execution_count": null,
   "id": "ce13200d-8a0f-406b-a787-82d8d0364c6c",
   "metadata": {},
   "outputs": [],
   "source": [
    "ternary_distance_RNA(large_families[3], gw_dist_dict, ephys_dmat, exon_dmat, metadata)"
   ]
  },
  {
   "cell_type": "code",
   "execution_count": null,
   "id": "a0455dd3-dc8b-47db-b8c7-4af28f9e7973",
   "metadata": {},
   "outputs": [],
   "source": [
    "ternary_distance_RNA(large_families[4], gw_dist_dict, ephys_dmat, exon_dmat, metadata)"
   ]
  },
  {
   "cell_type": "code",
   "execution_count": null,
   "id": "512574db-6206-43c5-b473-127624d74381",
   "metadata": {},
   "outputs": [],
   "source": [
    "ternary_distance_RNA(large_families[5], gw_dist_dict, ephys_dmat, exon_dmat, metadata)"
   ]
  },
  {
   "cell_type": "code",
   "execution_count": null,
   "id": "9faadd93-5d11-4fb3-ad3f-b958b6cc80a5",
   "metadata": {},
   "outputs": [],
   "source": [
    "ternary_distance_RNA(large_families[6], gw_dist_dict, ephys_dmat, exon_dmat, metadata)"
   ]
  }
 ],
 "metadata": {
  "kernelspec": {
   "display_name": "Python 3 (ipykernel)",
   "language": "python",
   "name": "python3"
  },
  "language_info": {
   "codemirror_mode": {
    "name": "ipython",
    "version": 3
   },
   "file_extension": ".py",
   "mimetype": "text/x-python",
   "name": "python",
   "nbconvert_exporter": "python",
   "pygments_lexer": "ipython3",
   "version": "3.10.12"
  }
 },
 "nbformat": 4,
 "nbformat_minor": 5
}
