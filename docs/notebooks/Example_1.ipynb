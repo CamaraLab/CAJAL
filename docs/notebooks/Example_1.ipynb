{
 "cells": [
  {
   "cell_type": "markdown",
   "id": "e7b5a7ab-99b6-4b04-a18d-2e95101802b0",
   "metadata": {},
   "source": [
    "Tutorial 1: Predicting the Molecular Type of Neurons\n",
    "====================================================\n",
    "To demonstrate some of the main functionalities of CAJAL,\n",
    "here we perform some basic analysis on a set of neuron\n",
    "morphological reconstructions obtained from the\n",
    "[Allen Brain Atlas](https://celltypes.brain-map.org/). To facilitate\n",
    "the analysis, we provide a compressed \\*.tar.gz file containing the \\*.SWC\n",
    "files of 509 neurons used in this example, which can be downloaded directly from this\n",
    "[link](https://www.dropbox.com/s/aq0ovetjtqihf4f/allen_brain_atlas_509_SWCs_mouse_full_or_dendrite_only.tar.gz?dl=0>). In this tutorial we assume that the SWC files are located in the folder `/home/jovyan/swc`. More information about this dataset can be found at:\n",
    "\n",
    "\\- Gouwens, N. W. et al. [Classification of electrophysiological and morphological neuron types in the mouse visual cortex.](https://www.nature.com/articles/s41593-019-0417-0) Nat Neurosci 22, 1182-1195 (2019).\n",
    "\n",
    "For this analysis, we focus on the morphology of the dendrites and exclude the\n",
    "axons of the neurons. To achieve this, we set `structure_ids = [1,3,4]`,\n",
    "which tells CAJAL to only sample points from the soma and the basal and apical\n",
    "dendrites. We sample 100 points from each neuron and compute the Euclidean distance\n",
    "between each pair of points in that neuron using the following code:"
   ]
  },
  {
   "cell_type": "code",
   "execution_count": 62,
   "id": "2f86e83d-222c-4533-9ad9-1fa1965ca4c6",
   "metadata": {},
   "outputs": [
    {
     "name": "stderr",
     "output_type": "stream",
     "text": [
      "100%|███████████████████████████████████████████████████████████████████████████████████████████████████████████████████████████████████████████████████████████████████████████████████████████████████████████████████████████████████████████████████████████████████████████████████████████████████████████████████████████████████████████████████████████████████████████████████████████████████▏| 508/509 [02:49<00:00,  3.00it/s]\n"
     ]
    },
    {
     "data": {
      "text/plain": [
       "[]"
      ]
     },
     "execution_count": 62,
     "metadata": {},
     "output_type": "execute_result"
    }
   ],
   "source": [
    "import cajal.sample_swc\n",
    "import cajal.swc\n",
    "from os.path import join\n",
    "\n",
    "bd = \"/home/jovyan/\" # Base directory\n",
    "\n",
    "cajal.sample_swc.compute_icdm_all_euclidean(\n",
    "    infolder=join(bd, 'swc'),\n",
    "    out_csv=join(bd, 'swc_bdad_100pts_euclidean_icdm.csv'),\n",
    "    preprocess=cajal.swc.preprocessor_eu(\n",
    "        structure_ids=[1,3,4],\n",
    "        soma_component_only=False),\n",
    "    n_sample=100,\n",
    "    num_processes=8)  # num_processes can be set to the number of cores on your machine"
   ]
  },
  {
   "cell_type": "markdown",
   "id": "01806ceb-596a-4b46-9a56-1aa895e002a6",
   "metadata": {},
   "source": [
    "Once the sampling is completed, we compute the Gromov-Wasserstein distance\n",
    "between each pair of neurons. To compute the Gromov-Wasserstein distance matrix we use\n",
    "the code:"
   ]
  },
  {
   "cell_type": "code",
   "execution_count": 63,
   "id": "94bcc1c3-2c56-4edb-8d4c-61461f2330e1",
   "metadata": {},
   "outputs": [
    {
     "data": {
      "application/vnd.jupyter.widget-view+json": {
       "model_id": "26c5bacdf380478792d7e011847e0443",
       "version_major": 2,
       "version_minor": 0
      },
      "text/plain": [
       "  0%|          | 0/129286 [00:00<?, ?it/s]"
      ]
     },
     "metadata": {},
     "output_type": "display_data"
    },
    {
     "data": {
      "text/plain": [
       "(array([[  0.        ,  76.53525355,  48.81215985, ...,  36.25765651,\n",
       "          39.63267218, 107.27192268],\n",
       "        [ 76.53525355,   0.        ,  90.55259238, ...,  69.27173625,\n",
       "          82.74822498,  50.54451328],\n",
       "        [ 48.81215985,  90.55259238,   0.        , ...,  26.48503494,\n",
       "          16.99102489, 129.81156708],\n",
       "        ...,\n",
       "        [ 36.25765651,  69.27173625,  26.48503494, ...,   0.        ,\n",
       "          21.15960915, 107.41792624],\n",
       "        [ 39.63267218,  82.74822498,  16.99102489, ...,  21.15960915,\n",
       "           0.        , 121.93211717],\n",
       "        [107.27192268,  50.54451328, 129.81156708, ..., 107.41792624,\n",
       "         121.93211717,   0.        ]]),\n",
       " None)"
      ]
     },
     "execution_count": 63,
     "metadata": {},
     "output_type": "execute_result"
    }
   ],
   "source": [
    "import cajal.run_gw\n",
    "\n",
    "cajal.run_gw.compute_gw_distance_matrix(\n",
    "    join(bd, 'swc_bdad_100pts_euclidean_icdm.csv'),\n",
    "    join(bd, 'swc_bdad_100pts_euclidean_GW_dmat.csv'),\n",
    "    num_processes=8)  "
   ]
  },
  {
   "cell_type": "markdown",
   "id": "1e91d043-ad59-42db-8da8-34d2312525b9",
   "metadata": {},
   "source": [
    "We can visualize the resulting space of cell morphologies using UMAP:"
   ]
  },
  {
   "cell_type": "code",
   "execution_count": 65,
   "id": "a0edadb2-3e25-48b4-9b55-3ce5d2061202",
   "metadata": {},
   "outputs": [
    {
     "name": "stderr",
     "output_type": "stream",
     "text": [
      "/home/patn/.local/lib/python3.10/site-packages/umap/umap_.py:1857: UserWarning:\n",
      "\n",
      "using precomputed metric; inverse_transform will be unavailable\n",
      "\n",
      "/home/patn/.local/lib/python3.10/site-packages/umap/umap_.py:1943: UserWarning:\n",
      "\n",
      "n_jobs value -1 overridden to 1 by setting random_state. Use no seed for parallelism.\n",
      "\n"
     ]
    },
    {
     "data": {
      "text/html": [
       "<iframe\n",
       "    scrolling=\"no\"\n",
       "    width=\"100%\"\n",
       "    height=\"545px\"\n",
       "    src=\"iframe_figures/figure_65.html\"\n",
       "    frameborder=\"0\"\n",
       "    allowfullscreen\n",
       "></iframe>\n"
      ]
     },
     "metadata": {},
     "output_type": "display_data"
    }
   ],
   "source": [
    "import plotly.io as pio\n",
    "pio.renderers.default = 'iframe'\n",
    "\n",
    "import cajal.utilities\n",
    "import umap\n",
    "import plotly.express\n",
    "\n",
    "# Read GW distance matrix\n",
    "cells, gw_dist_dict = cajal.utilities.read_gw_dists(join(bd,\"swc_bdad_100pts_euclidean_GW_dmat.csv\"), header=True)\n",
    "gw_dist = cajal.utilities.dist_mat_of_dict(gw_dist_dict, cells)\n",
    "\n",
    "# Compute UMAP representation\n",
    "reducer = umap.UMAP(metric=\"precomputed\", random_state=1)\n",
    "embedding = reducer.fit_transform(gw_dist)\n",
    "\n",
    "# Visualize UMAP\n",
    "plotly.express.scatter(x=embedding[:,0], \n",
    "                       y=embedding[:,1], \n",
    "                       template=\"simple_white\", \n",
    "                       hover_name=[m + \".swc\" for m in cells])"
   ]
  },
  {
   "cell_type": "markdown",
   "id": "060f294a-469b-4c62-952a-bb830ff17317",
   "metadata": {},
   "source": [
    "Once the user has computed the Gromov-Wasserstein distances between cells it is\n",
    "possible to cluster the cells using standard clustering techniques. The Louvain\n",
    "and Leiden clustering algorithms are two commonly used\n",
    "algorithms to identify communities within large networks; they can be adapted\n",
    "to finite metric spaces by constructing a `k`-nearest-neighbors graph on top of\n",
    "the metric space. CAJAL provides access to both of these clustering\n",
    "algorithms. When combined with a low-dimensional embedding tool such as the\n",
    "UMAP algorithm, the user can plot the clusters in a 2-dimensional embedding and\n",
    "visualize them. Here, we use the Leiden algorithm to cluster the neurons based on their morphology:"
   ]
  },
  {
   "cell_type": "code",
   "execution_count": 66,
   "id": "7c319c09-95a5-4ad7-b199-409275bfc2dc",
   "metadata": {},
   "outputs": [
    {
     "data": {
      "text/html": [
       "<iframe\n",
       "    scrolling=\"no\"\n",
       "    width=\"100%\"\n",
       "    height=\"545px\"\n",
       "    src=\"iframe_figures/figure_66.html\"\n",
       "    frameborder=\"0\"\n",
       "    allowfullscreen\n",
       "></iframe>\n"
      ]
     },
     "metadata": {},
     "output_type": "display_data"
    }
   ],
   "source": [
    "clusters = cajal.utilities.leiden_clustering(gw_dist, seed=1)\n",
    "plotly.express.scatter(x=embedding[:,0], \n",
    "                       y=embedding[:,1], \n",
    "                       template=\"simple_white\", \n",
    "                       hover_name=[m + \".swc\" for m in cells],\n",
    "                       color = [str(m) for m in clusters])"
   ]
  },
  {
   "cell_type": "markdown",
   "id": "84e265b7-ce39-4aa2-801e-d109f6c2803b",
   "metadata": {},
   "source": [
    "As expected, cells belonging to the same cluster have similar morphology. For example,\n",
    "let us visualize some of the cells in the brown cluster (cluster 8) using the Python package [NAVis](https://navis.readthedocs.io/en/latest/index.html>) (which can be installed using `pip install navis`):"
   ]
  },
  {
   "cell_type": "code",
   "execution_count": 77,
   "id": "76a949b1-75b3-4cda-b96f-8876e9e14c8c",
   "metadata": {},
   "outputs": [
    {
     "data": {
      "text/plain": [
       "(<Figure size 720x720 with 1 Axes>, <Axes3D: >)"
      ]
     },
     "execution_count": 77,
     "metadata": {},
     "output_type": "execute_result"
    },
    {
     "data": {
      "image/png": "[encoded data removed]",
      "text/plain": [
       "<Figure size 720x720 with 1 Axes>"
      ]
     },
     "metadata": {
      "needs_background": "light"
     },
     "output_type": "display_data"
    },
    {
     "data": {
      "image/png": "[encoded data removed]",
      "text/plain": [
       "<Figure size 720x720 with 1 Axes>"
      ]
     },
     "metadata": {
      "needs_background": "light"
     },
     "output_type": "display_data"
    },
    {
     "data": {
      "image/png": "[encoded data removed]",
      "text/plain": [
       "<Figure size 720x720 with 1 Axes>"
      ]
     },
     "metadata": {
      "needs_background": "light"
     },
     "output_type": "display_data"
    }
   ],
   "source": [
    "import navis\n",
    "\n",
    "cells_cluster_8 = [n for m, n in zip(clusters, cells) if m==8]\n",
    "cluster_8 = [navis.read_swc(join(bd,\"swc/\" + n + \".swc\")) for n in cells_cluster_8]\n",
    "\n",
    "cluster_8[1].plot2d()\n",
    "cluster_8[2].plot2d()\n",
    "cluster_8[3].plot2d()"
   ]
  },
  {
   "cell_type": "markdown",
   "id": "f1c8a003-60ce-41b7-8234-a59e9ee92396",
   "metadata": {},
   "source": [
    "NAVis offers many other great functionalities, including interactive 3D visualizations of the neurons. More information about those functionalities can be found at the [NAVis documentation](https://navis.readthedocs.io/en/latest/index.html>).\n",
    "\n",
    "We can also compute the medoid of the cluster, i. e. the most central\n",
    "neuron of the cluster (and therefore a good representative of the\n",
    "morphologies present in the cluster), and visualize it:"
   ]
  },
  {
   "cell_type": "code",
   "execution_count": 78,
   "id": "2e430057-c536-4627-9562-c2c1d9d90b98",
   "metadata": {},
   "outputs": [
    {
     "data": {
      "text/plain": [
       "(<Figure size 720x720 with 1 Axes>, <Axes3D: >)"
      ]
     },
     "execution_count": 78,
     "metadata": {},
     "output_type": "execute_result"
    },
    {
     "data": {
      "image/png": "[encoded data removed]",
      "text/plain": [
       "<Figure size 720x720 with 1 Axes>"
      ]
     },
     "metadata": {
      "needs_background": "light"
     },
     "output_type": "display_data"
    }
   ],
   "source": [
    "medoid_8 = navis.read_swc(join(bd,'swc/' + cajal.utilities.identify_medoid(cells_cluster_8, gw_dist_dict) + \".swc\"))\n",
    "medoid_8.plot2d()"
   ]
  },
  {
   "cell_type": "markdown",
   "id": "e6ccc83a-c72b-4e38-a0b5-863bb0935a50",
   "metadata": {},
   "source": [
    "CAJAL allows the user to visualize the components of each neuron which contribute the most to the overall distortion score. \n",
    "Here, we compare the medoid neurons of the 5th cluster and 8th cluster. The red and pink regions of the neurons are obstacles to a clean fit between the neurons; they suggest key regions of the two shapes which represent morphological distinctions between the two cells, and by extension between the two clusters."
   ]
  },
  {
   "cell_type": "code",
   "execution_count": 92,
   "id": "e5745c6b-d3cf-441f-a8f5-8c651e5e5f19",
   "metadata": {},
   "outputs": [],
   "source": [
    "from cajal.deformation_vis import navis_heatmap\n",
    "\n",
    "cells_cluster_5 = [n for m, n in zip(clusters, cells) if m==5]\n",
    "medoid_5 = navis.read_swc(join(bd,'swc/' + cajal.utilities.identify_medoid(cells_cluster_5, gw_dist_dict) + \".swc\"))\n",
    "(heatmap_5, heatmap_8) = navis_heatmap(\n",
    "    medoid_5,\n",
    "    200,\n",
    "    medoid_8,\n",
    "    200\n",
    ")"
   ]
  },
  {
   "cell_type": "code",
   "execution_count": 93,
   "id": "1721933e-1e65-4f44-8560-e328f32fdf03",
   "metadata": {},
   "outputs": [
    {
     "data": {
      "text/plain": [
       "(<Figure size 720x720 with 1 Axes>, <Axes3D: >)"
      ]
     },
     "execution_count": 93,
     "metadata": {},
     "output_type": "execute_result"
    },
    {
     "data": {
      "image/png": "[encoded data removed]",
      "text/plain": [
       "<Figure size 720x720 with 1 Axes>"
      ]
     },
     "metadata": {
      "needs_background": "light"
     },
     "output_type": "display_data"
    },
    {
     "data": {
      "image/png": "[encoded data removed]",
      "text/plain": [
       "<Figure size 720x720 with 1 Axes>"
      ]
     },
     "metadata": {
      "needs_background": "light"
     },
     "output_type": "display_data"
    }
   ],
   "source": [
    "heatmap_5.plot2d(color_by='distortion', palette='cool')\n",
    "heatmap_8.plot2d(color_by='distortion', palette='cool')"
   ]
  },
  {
   "cell_type": "markdown",
   "id": "e0b5120b-8d25-4c56-a796-9b0f334e966b",
   "metadata": {},
   "source": [
    "The file ``CAJAL/data/cell_types_specimen_details.csv`` in the GitHub repository of CAJAL\n",
    "contains metadata for each of the neurons in this example, including the layer, Cre line, etc.\n",
    "Here we color the above UMAP representation by the cortical layer of each neuron:"
   ]
  },
  {
   "cell_type": "code",
   "execution_count": 94,
   "id": "18dd7f79-7992-4f24-95d2-d447d9ceb396",
   "metadata": {},
   "outputs": [
    {
     "data": {
      "text/html": [
       "<iframe\n",
       "    scrolling=\"no\"\n",
       "    width=\"100%\"\n",
       "    height=\"545px\"\n",
       "    src=\"iframe_figures/figure_94.html\"\n",
       "    frameborder=\"0\"\n",
       "    allowfullscreen\n",
       "></iframe>\n"
      ]
     },
     "metadata": {},
     "output_type": "display_data"
    }
   ],
   "source": [
    "import pandas\n",
    "\n",
    "metadata = pandas.read_csv(join(bd,\"CAJAL/data/cell_types_specimen_details.csv\"))\n",
    "metadata.index = [str(m) for m in metadata[\"specimen__id\"]]\n",
    "metadata = metadata.loc[cells]\n",
    "\n",
    "plotly.express.scatter(x=embedding[:,0], \n",
    "                       y=embedding[:,1], \n",
    "                       template=\"simple_white\", \n",
    "                       hover_name=[m + \".swc\" for m in cells],\n",
    "                       color = metadata[\"structure__layer\"])"
   ]
  },
  {
   "cell_type": "markdown",
   "id": "753aacce-a3a9-4534-89b7-30cb307e05dc",
   "metadata": {},
   "source": [
    "As shown in the visualization, different cortical layers seem to be\n",
    "associated with specific regions of the cell morphology space. We can quantify\n",
    "statistically the association using the Laplacian score:"
   ]
  },
  {
   "cell_type": "code",
   "execution_count": 95,
   "id": "b43f20cd-dac3-4994-be08-e33b6bd33863",
   "metadata": {},
   "outputs": [
    {
     "name": "stdout",
     "output_type": "stream",
     "text": [
      "     feature_laplacians  laplacian_p_values  laplacian_q_values\n",
      "1              0.976439              0.0002             0.00060\n",
      "2/3            0.968968              0.0002             0.00060\n",
      "4              0.970067              0.0002             0.00060\n",
      "5              0.987542              0.0006             0.00090\n",
      "6a             0.992997              0.0020             0.00200\n",
      "6b             0.992043              0.0014             0.00168\n"
     ]
    }
   ],
   "source": [
    "import cajal.laplacian_score\n",
    "import numpy\n",
    "import pandas\n",
    "from scipy.spatial.distance import squareform\n",
    "\n",
    "# Build indicator matrix\n",
    "layers = numpy.unique(metadata[\"structure__layer\"])\n",
    "indicator = (numpy.array(metadata[\"structure__layer\"])[:,None] == layers)*1\n",
    "\n",
    "# Compute the Laplacian score\n",
    "laplacian = pandas.DataFrame(cajal.laplacian_score.laplacian_scores(indicator, \n",
    "                                       gw_dist, \n",
    "                                       numpy.median(squareform(gw_dist)), \n",
    "                                       permutations = 5000, \n",
    "                                       covariates = None, \n",
    "                                       return_random_laplacians = False)[0])\n",
    "laplacian.index = layers\n",
    "\n",
    "print(laplacian)"
   ]
  },
  {
   "cell_type": "markdown",
   "id": "626c2283-0f67-4bdc-abc4-330da9820267",
   "metadata": {},
   "source": [
    "We observe that indeed all cortical layers are significantly associated with distinct\n",
    "regions of the cell morphology space with false discovery rates (FDRs) < 0.05.\n",
    "\n",
    "We could perform a similar analysis with other features. Alternatively, we could\n",
    "build a classifier to predict the value of each feature based on the position of the cells in\n",
    "the cell morphology space. For example, each neuron in the dataset is derived\n",
    "from a specific Cre driver line, which preferentially labels distinct neuronal types.\n",
    "Neurons from the same Cre driver line therefore tend to have similar morphologies, and\n",
    "a Laplacian score analysis would show that many Cre driver lines are significantly\n",
    "associated with distinct regions of the cell morphology space. As a result, it is\n",
    "possible to predict the Cre driver line of a neuron based on its morphological features.\n",
    "\n",
    "To accomplish this, we train a nearest-neighbors classifier on the GW distance matrix and\n",
    "evaluate its accuracy using 7-fold cross-validation:"
   ]
  },
  {
   "cell_type": "code",
   "execution_count": 98,
   "id": "541cebff-d9a0-428d-9082-15180ee19507",
   "metadata": {},
   "outputs": [
    {
     "name": "stderr",
     "output_type": "stream",
     "text": [
      "/home/patn/.local/lib/python3.10/site-packages/sklearn/model_selection/_split.py:725: UserWarning:\n",
      "\n",
      "The least populated class in y has only 1 members, which is less than n_splits=7.\n",
      "\n"
     ]
    },
    {
     "data": {
      "text/plain": [
       "0.2790008697542944"
      ]
     },
     "execution_count": 98,
     "metadata": {},
     "output_type": "execute_result"
    }
   ],
   "source": [
    "from sklearn.neighbors import KNeighborsClassifier\n",
    "from sklearn.model_selection import StratifiedKFold, cross_val_score\n",
    "\n",
    "cre_lines = numpy.array(metadata[\"line_name\"])\n",
    "\n",
    "clf = KNeighborsClassifier(metric=\"precomputed\", n_neighbors=10, weights=\"distance\")\n",
    "cv = StratifiedKFold(n_splits=7, shuffle=True)\n",
    "accuracy = cross_val_score(clf, X=gw_dist, y=cre_lines,cv=cv)\n",
    "\n",
    "numpy.mean(accuracy)"
   ]
  },
  {
   "cell_type": "markdown",
   "id": "61e7ad10-1580-489d-bd4f-4acdf08d5add",
   "metadata": {},
   "source": [
    "Similarly, we can compute the\n",
    "[Matthews correlation coefficient](https://bmcgenomics.biomedcentral.com/counter/pdf/10.1186/s12864-019-6413-7.pdf) \n",
    "of the classification, which appropriately weights the error arising from misclassifying\n",
    "elements of smaller classes:"
   ]
  },
  {
   "cell_type": "code",
   "execution_count": 102,
   "id": "392cad0e-0022-4b06-99ab-453c9169ba45",
   "metadata": {},
   "outputs": [
    {
     "name": "stdout",
     "output_type": "stream",
     "text": [
      "0.23734504666518427\n"
     ]
    },
    {
     "name": "stderr",
     "output_type": "stream",
     "text": [
      "/home/patn/.local/lib/python3.10/site-packages/sklearn/model_selection/_split.py:725: UserWarning:\n",
      "\n",
      "The least populated class in y has only 1 members, which is less than n_splits=7.\n",
      "\n"
     ]
    }
   ],
   "source": [
    "from sklearn.model_selection import cross_val_predict\n",
    "from sklearn.metrics import matthews_corrcoef\n",
    "\n",
    "cvp = cross_val_predict(clf, X=gw_dist, y=cre_lines, cv=cv)\n",
    "\n",
    "print(matthews_corrcoef(cvp, cre_lines))"
   ]
  }
 ],
 "metadata": {
  "kernelspec": {
   "display_name": "Python 3 (ipykernel)",
   "language": "python",
   "name": "python3"
  },
  "language_info": {
   "codemirror_mode": {
    "name": "ipython",
    "version": 3
   },
   "file_extension": ".py",
   "mimetype": "text/x-python",
   "name": "python",
   "nbconvert_exporter": "python",
   "pygments_lexer": "ipython3",
   "version": "3.10.12"
  }
 },
 "nbformat": 4,
 "nbformat_minor": 5
}
