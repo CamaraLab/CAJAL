{
 "cells": [
  {
   "cell_type": "markdown",
   "id": "7c057692-50ec-4b18-b387-7fabf3c36d23",
   "metadata": {
    "tags": []
   },
   "source": [
    "Tutorial: Computing with large datasets\n",
    "=======================================\n",
    "The Gromov-Wasserstein distance between two cells with 100 points takes about 9ms to compute on a standard desktop. The number of pairs grows quadratically with the number of cells, and so the total runtime can become large.\n",
    "\n",
    "For large datasets we provide two tools to reduce the necessary computation, as well as a hybrid of these.\n",
    "\n",
    "In <a name=\"cite_ref-1\"></a>[<sup>[1]</sup>](#cite_note-1) the author establishes several lower bounds for the Gromov-Wasserstein distance. We have implemented one of the fastest, SLB. <a name=\"cite_ref-2\"></a>[<sup>[2]</sup>](#cite_note-2). For the purposes of clustering analysis it may be enough to know the precise Gromov-Wasserstein distance only for cells which are close to each other in the morphology space, because most clustering algorithms are insensitive to the precise distance between points which are very far apart. Similarly, many dimensionality reduction techniques only respect local distances but do not preserve global structure of the space, and so it is not crucial to know the exact values between disparate cells."
   ]
  },
  {
   "cell_type": "code",
   "execution_count": 2,
   "id": "c852ce97-8851-4083-a5a6-3ed563dda25a",
   "metadata": {},
   "outputs": [],
   "source": [
    "import os\n",
    "wd= os.path.join(os.getcwd(),\"../../CAJAL/data\")\n",
    "icdm_file=os.path.join(wd,\"swc_100pts_eu_4_17_2023.csv\")\n",
    "from cajal.run_gw import cell_iterator_csv\n",
    "names, _ = zip(*cell_iterator_csv(icdm_file))\n",
    "names=list(names)"
   ]
  },
  {
   "cell_type": "code",
   "execution_count": 1,
   "id": "9982e219-9cc2-4e09-bfe0-d417774348d3",
   "metadata": {},
   "outputs": [
    {
     "name": "stdout",
     "output_type": "stream",
     "text": [
      "Computation finished. Computed 129286 cell pairs. Time elapsed: 0.14007997512817383\n"
     ]
    }
   ],
   "source": [
    "from cajal.run_gw import slb_parallel\n",
    "# num_processes can be set to the number of cores on your machine.\n",
    "slb_parallel(\n",
    "    icdm_file,\n",
    "    num_processes =8,\n",
    "    out_csv = os.path.join(wd,\"slb_data.csv\")\n",
    ")\n",
    "#slb_distance_matrix is a numpy array of shape (N,N), where N==len(names)"
   ]
  },
  {
   "cell_type": "markdown",
   "id": "0682e9b1-6154-4d19-bbfc-c9899b480853",
   "metadata": {},
   "source": [
    "Although the SLB is only a lower bound for the Gromov-Wasserstein distance, using it alone is already fairly accurate as a classifier. We will recapitulate the same analysis done for the tutorial on predicting the molecular type of neurons."
   ]
  },
  {
   "cell_type": "code",
   "execution_count": 4,
   "id": "9aaa3495-d339-4125-89dd-b1928b7a7496",
   "metadata": {},
   "outputs": [],
   "source": [
    "import pandas\n",
    "import numpy as np\n",
    "metadata = pandas.read_csv(os.path.join(wd,\"cell_types_specimen_details.csv\"))\n",
    "metadata.index = [str(m) for m in metadata[\"specimen__id\"]]\n",
    "metadata=metadata.loc[list(names)]\n",
    "cre_lines = np.array(metadata[\"line_name\"])\n",
    "\n",
    "from sklearn.neighbors import KNeighborsClassifier\n",
    "from sklearn.model_selection import StratifiedKFold, cross_val_score\n",
    "clf = KNeighborsClassifier(metric=\"precomputed\", n_neighbors=10, weights=\"distance\")\n",
    "cv = StratifiedKFold(n_splits=7, shuffle=True)"
   ]
  },
  {
   "cell_type": "code",
   "execution_count": null,
   "id": "9a5c019b-f279-4fa5-adaf-65190f9d4659",
   "metadata": {},
   "outputs": [],
   "source": [
    "from cajal.utilities import read_gw_dists, dist_mat_of_dict\n",
    "from sklearn.neighbors import KNeighborsClassifier\n",
    "from sklearn.model_selection import StratifiedKFold, cross_val_score, cross_val_predict\n",
    "from sklearn.metrics import matthews_corrcoef\n",
    "\n",
    "_, slb_dist_dict = read_gw_dists(os.path.join(wd,\"slb_data.csv\"), header=True)\n",
    "slb_dmat = dist_mat_of_dict(slb_dist_dict,cell_names=names)\n",
    "mcc_slb=[]\n",
    "for i in range(50):\n",
    "        cvp = cross_val_predict(clf, X=slb_dmat, y=cre_lines, cv=cv)\n",
    "        mcc_slb.append(matthews_corrcoef(cvp, cre_lines))"
   ]
  },
  {
   "cell_type": "code",
   "execution_count": 8,
   "id": "87cdb1f2-c3b4-4944-ade2-d70f90a276c2",
   "metadata": {},
   "outputs": [
    {
     "name": "stdout",
     "output_type": "stream",
     "text": [
      "0.22309533564728434\n"
     ]
    }
   ],
   "source": [
    "print(np.mean(mcc_slb))"
   ]
  },
  {
   "cell_type": "markdown",
   "id": "aa53fb36-531a-4e03-877a-1a1f9e2db3b7",
   "metadata": {},
   "source": [
    "If the SLB2 distance between all cells are known, there is a straightforward algorithm<a name=\"cite_ref-3\"></a>[<sup>[3]</sup>](#cite_note-3) to compute the $k$ nearest neighbors of any given cell under the Gromov-Wasserstein metric. If $k$ is chosen sufficiently large, this is enough to understand the local structure of the morphology space and cluster it."
   ]
  },
  {
   "cell_type": "markdown",
   "id": "9afd098a-aba2-4e7d-900c-e23b00221545",
   "metadata": {
    "jp-MarkdownHeadingCollapsed": true,
    "tags": []
   },
   "source": [
    "If the SLB2 distance between all cells are known, there is a straightforward algorithm<a name=\"cite_ref-3\"></a>[<sup>[3]</sup>](#cite_note-3) to compute the $k$ nearest neighbors of any given cell under the Gromov-Wasserstein metric. If $k$ is chosen sufficiently large, this is enough to understand the local structure of the morphology space and cluster it."
   ]
  },
  {
   "cell_type": "markdown",
   "id": "21f4ff10-4f93-4fa2-91a0-a5726ed226c5",
   "metadata": {
    "jp-MarkdownHeadingCollapsed": true,
    "tags": []
   },
   "source": [
    "The second tool we provide is an implementation of the quantized Gromov-Wasserstein distance proposed by Chowdhury, Miller and Needham<a name=\"cite_ref-4\"></a>[<sup>[4]</sup>](#cite_note-4). Given cells $X$ and $Y$, the quantized Gromov-Wasserstein distance is given as follows:\n",
    "1. Partition the points of $X$ and $Y$ into $n$ clusters. Let $X^n, Y^n$ be the set of medoids of these clusters; $X^n$ can be thought of as the best possible approximation to $X$ in the GW morphology space by a set with at most $n$ points.\n",
    "2. Computing the optimal Gromov-Wasserstein transport plan between the subspaces $X^n$ and $Y^n$ formed by the medoids of each cluster.\n",
    "3. Extend this to a global transport plan between $X$ and $Y$ by pairing points within paired clusters by their distance from the medoid, and compute the distortion associated to this transport plan.\n",
    "This approximation gives an acceptable tradeoff between precision and computation time.\n",
    "\n",
    "We combine these two tools in an integrated analysis method which allows the user to reduce computation time in three different ways.\n",
    "1. by computing only the $k$ nearest neighbors of each cell, and estimating the rest roughly using SLB2\n",
    "2. by accepting a small fraction of errors in the reported nearest neighbors list of each cell (i.e., 98% of the nearest neighbors are correct)\n",
    "3. by using the quantized GW distance as a proxy for the true GW distance, which adds some noise to the reported distance between nearest neighbors"
   ]
  },
  {
   "cell_type": "markdown",
   "id": "d540212b-6705-48bb-80ca-db19f063c62c",
   "metadata": {},
   "source": [
    "The routine below does the following. All cells in the given intracell distance matrix file have 100 points.\n",
    "1. Compute the pairwise SLB between any two cells in the given list of intracell distance matrices.\n",
    "2. For each cell $X$, identify the 30 estimated nearest neighbors $X_1,\\dots, X_{30}$ based on the SLB distance matrix, and compute the QGW distance $QGW_{25}(X,X_k)$ for all 30 pairs.\n",
    "3. For each remaining cell pair $X,Y$, we estimate the probability that $QGW_{25}(X,Y)$ is small enough to \"injure\" the existing purported list of nearest neighbors. We sort the cell pairs in descending order by this probability and compute the $QGW_{25}$ distance between pairs in this list until the expected number of \"injuries\" remaining is less than 5% of the nearest neighbor table, so that of the reported 30 nearest nearest neighbors to each point, 28.5 are expected to be correct.\n",
    "4. For all remaining cells we estimate the correct distance based on the SLB."
   ]
  },
  {
   "cell_type": "code",
   "execution_count": 7,
   "id": "0a490d92-5fa1-4e99-97c6-ee35a304fcb2",
   "metadata": {},
   "outputs": [],
   "source": [
    "import pandas\n",
    "import numpy as np\n",
    "metadata = pandas.read_csv(os.path.join(wd,\"cell_types_specimen_details.csv\"))\n",
    "metadata.index = [str(m) for m in metadata[\"specimen__id\"]]\n",
    "metadata=metadata.loc[list(names)]\n",
    "cre_lines = np.array(metadata[\"line_name\"])"
   ]
  },
  {
   "cell_type": "code",
   "execution_count": 8,
   "id": "b18a6c93-3dc5-4acf-af22-1a480e6e4f5e",
   "metadata": {},
   "outputs": [],
   "source": []
  },
  {
   "cell_type": "code",
   "execution_count": 21,
   "id": "e5ff1fc9-54fb-4d9d-85d7-d762c1a318bc",
   "metadata": {},
   "outputs": [],
   "source": [
    "from cajal.run_gw import combined_slb_quantized_gw\n",
    "from cajal.utilities import read_gw_dists, dist_mat_of_dict\n"
   ]
  },
  {
   "cell_type": "code",
   "execution_count": 89,
   "id": "c86793b5-512f-4e07-a3cb-6e7275c3aee0",
   "metadata": {},
   "outputs": [],
   "source": []
  },
  {
   "cell_type": "code",
   "execution_count": 90,
   "id": "dd79a8c2-0a8d-4cc5-841f-2db72eb4370f",
   "metadata": {},
   "outputs": [],
   "source": []
  },
  {
   "cell_type": "code",
   "execution_count": 11,
   "id": "8af77d65-17fe-4e01-b0ae-9d6c9605e6e3",
   "metadata": {},
   "outputs": [],
   "source": [
    "import matplotlib.pyplot as plt\n",
    "import statistics\n",
    "from cajal.run_gw import combined_slb_quantized_gw\n",
    "from cajal.utilities import dist_mat_of_dict,read_gw_dists\n",
    "def test_at_clustering_resolution(n : int):\n",
    "    combined_slb_quantized_gw(\n",
    "        input_icdm_csv_location= icdm_file,\n",
    "        gw_out_csv_location = os.path.join(wd,\"qgw\" + str(n) + \"_estimates.csv\"),\n",
    "        num_processes = 20,\n",
    "        num_clusters = n,\n",
    "        accuracy = 1,\n",
    "        nearest_neighbors = 10)\n",
    "\n",
    "    _, qgw_dist_dict = read_gw_dists(os.path.join(wd,\"qgw\" + str(n) + \"_estimates.csv\"), header=False)\n",
    "    qgw_dmat = dist_mat_of_dict(qgw_dist_dict,cell_names=names)\n",
    "    mcc=[]\n",
    "    cvp = cross_val_predict(clf, X=qgw_dmat, y=cre_lines, cv=cv)\n",
    "    for i in range(50):\n",
    "        cvp = cross_val_predict(clf, X=qgw_dmat, y=cre_lines, cv=cv)\n",
    "        mcc.append(matthews_corrcoef(cvp, cre_lines))\n",
    "    return mcc"
   ]
  },
  {
   "cell_type": "code",
   "execution_count": null,
   "id": "d54dbe90-0104-4fc6-91d5-92f8850f36f1",
   "metadata": {},
   "outputs": [],
   "source": [
    "mcc100=test_at_clustering_resolution(100)"
   ]
  },
  {
   "cell_type": "code",
   "execution_count": 13,
   "id": "5d3aad41-2811-4ad0-b183-f1d925f9cbb6",
   "metadata": {},
   "outputs": [
    {
     "data": {
      "text/plain": [
       "(array([6., 8., 3., 5., 6., 7., 9., 2., 1., 3.]),\n",
       " array([0.21182139, 0.2161362 , 0.220451  , 0.2247658 , 0.2290806 ,\n",
       "        0.23339541, 0.23771021, 0.24202501, 0.24633981, 0.25065461,\n",
       "        0.25496942]),\n",
       " <BarContainer object of 10 artists>)"
      ]
     },
     "execution_count": 13,
     "metadata": {},
     "output_type": "execute_result"
    },
    {
     "data": {
      "image/png": "[encoded data removed]",
      "text/plain": [
       "<Figure size 432x288 with 1 Axes>"
      ]
     },
     "metadata": {
      "needs_background": "light"
     },
     "output_type": "display_data"
    }
   ],
   "source": [
    "plt.hist(mcc100)"
   ]
  },
  {
   "cell_type": "code",
   "execution_count": 15,
   "id": "7499f4db-c5cd-4a3d-b753-07518fa3ddf9",
   "metadata": {},
   "outputs": [
    {
     "data": {
      "text/plain": [
       "0.23048577366808565"
      ]
     },
     "execution_count": 15,
     "metadata": {},
     "output_type": "execute_result"
    }
   ],
   "source": [
    "np.mean(mcc100)"
   ]
  },
  {
   "cell_type": "code",
   "execution_count": 92,
   "id": "07209796-b8b7-4d9e-8930-a3a647ba9539",
   "metadata": {},
   "outputs": [
    {
     "data": {
      "text/plain": [
       "(array([ 1.,  2.,  3.,  8., 12.,  9., 11.,  2.,  0.,  2.]),\n",
       " array([0.19723913, 0.20216032, 0.20708151, 0.21200271, 0.2169239 ,\n",
       "        0.22184509, 0.22676629, 0.23168748, 0.23660867, 0.24152987,\n",
       "        0.24645106]),\n",
       " <BarContainer object of 10 artists>)"
      ]
     },
     "execution_count": 92,
     "metadata": {},
     "output_type": "execute_result"
    },
    {
     "data": {
      "image/png": "[encoded data removed]",
      "text/plain": [
       "<Figure size 432x288 with 1 Axes>"
      ]
     },
     "metadata": {
      "needs_background": "light"
     },
     "output_type": "display_data"
    }
   ],
   "source": [
    "plt.hist(mcc_slb)"
   ]
  },
  {
   "cell_type": "code",
   "execution_count": 16,
   "id": "6124e7a4-7393-4bcf-b7d3-ee119878297b",
   "metadata": {},
   "outputs": [
    {
     "data": {
      "text/plain": [
       "0.22309533564728434"
      ]
     },
     "execution_count": 16,
     "metadata": {},
     "output_type": "execute_result"
    }
   ],
   "source": [
    "np.mean(mcc_slb)"
   ]
  },
  {
   "cell_type": "code",
   "execution_count": null,
   "id": "519880ee-5ab3-45b1-8647-1e7b71c4c487",
   "metadata": {},
   "outputs": [],
   "source": [
    "mcc20=test_at_clustering_resolution(20)"
   ]
  },
  {
   "cell_type": "code",
   "execution_count": 94,
   "id": "fd3f0e38-6e15-42be-908f-0a0cf3d8876e",
   "metadata": {},
   "outputs": [
    {
     "name": "stdout",
     "output_type": "stream",
     "text": [
      "0.22151490467785648\n",
      "0.008957719842506286\n"
     ]
    }
   ],
   "source": [
    "print(statistics.mean(mcc_slb))\n",
    "print(statistics.stdev(mcc_slb))"
   ]
  },
  {
   "cell_type": "code",
   "execution_count": 86,
   "id": "56826b9d-6da7-41a7-af9f-78fc63171e08",
   "metadata": {},
   "outputs": [
    {
     "name": "stdout",
     "output_type": "stream",
     "text": [
      "0.2160224374690422\n",
      "0.010191307459348296\n"
     ]
    }
   ],
   "source": [
    "print(statistics.mean(mcc20))\n",
    "print(statistics.stdev(mcc20))"
   ]
  },
  {
   "cell_type": "markdown",
   "id": "567565d0-2503-49b6-9439-7cbd2bf24c52",
   "metadata": {
    "jp-MarkdownHeadingCollapsed": true,
    "tags": []
   },
   "source": [
    "<a name=\"cite_note-1\"></a>1.[^](#cite_ref-1) Mémoli, F. P. [Gromov–Wasserstein Distances and the Metric Approach to Object Matching.](https://dblp.uni-trier.de/db/journals/focm/focm11.html#Memoli11) Found Comput Math (2011) 11, 417–487.\n",
    "\n",
    "<a name=\"cite_note-2\"></a>2.[^](#cite_ref-2) Specifically we have implemented the expression which appears on the right hand side of the first inequality of Corollary 6.2 on page 462, for p = 2. This expression is not directly named in the paper. We do not compute the quantity Mémoli calls SLB, as it is too computationally expensive for our purposes.\n",
    "\n",
    "<a name=\"cite_note-3\"></a>3.[^](#cite_ref-3) A simple algorithm for computing the nearest neighbors of a cell in the Gromov-Wasserstein morphology space if the SLB2 distance is known is as follows:\n",
    "1. First, sort all other cells by their SLB2 distance from $c_0$, as $c_1, c_2, c_3,\\dots$.\n",
    "2. Next, compute the Gromov-Wasserstein distance $GW(c_0,c_j)$, as $j = 1, 2, 3,\\dots$. Write $e^k_j$ for the $k$-th element of the set $GW(c_0,c_1),GW(c_0,c_2),\\dots,GW(c_0,c_j)$ when these are ordered from least to greatest. ($e^k_j$ is only defined when $k \\leq j$). Continue computing $GW(c_0,c_j)$ until $j$ reaches a value $\\ell$ such that for all $i> \\ell$, $SLB(c_0,c_i) > e^k_\\ell$. Because SLB is a lower bound, at this point, the $k$ nearest neighbors of $c_0$ are contained in the set $\\{c_1,\\dots, c_\\ell\\}$.\n",
    "\n",
    "<a name=\"cite_note-4\"></a>4.[^](#cite_ref-4) Chowdhury, S., Miller, D., Needham, T. (2021). Quantized Gromov-Wasserstein. In: Oliver, N., Pérez-Cruz, F., Kramer, S., Read, J., Lozano, J.A. (eds) Machine Learning and Knowledge Discovery in Databases. Research Track. ECML PKDD 2021. Lecture Notes in Computer Science(), vol 12977. Springer, Cham. https://doi.org/10.1007/978-3-030-86523-8_49\n",
    "\n",
    "\n",
    "\n",
    "contribute to the neuronal plasticity in the C. elegans. This example utilizes a dataset consisting of 799 3D neuronal reconstructions of the C.elegans DVB neuron across various mutant and control strains during days 1 to 5 of adulthood. The dataset can be downloaded from the following\n",
    "[folder](https://www.dropbox.com/scl/fo/y7axeardkwyn1d6j97dqr/h?dl=0&rlkey=4b65w4tc93e778rql72d275ym). The DVB neuron is an excitatory GABAergic motor\n",
    "interneuron located in the dorso-rectal ganglion of the worm, and is known to undergo post-developmental neurite outgrowth in males. This outgrowth \n",
    "alters the neuron's morphology and synaptic connectivity, contributing to\n",
    "changes in the spicule protraction step of male mating behavior. More information about this \n",
    "dataset can be found at:\n",
    "\n",
    "\\- Hart, M. P. & Hobert, O. [Neurexin controls plasticity of a mature, sexually dimorphic neuron.](https://www.nature.com/articles/nature25192) Nature 553, 165-170, (2018).\n",
    "\n",
    "\\- Govek, K. W. et al. [Analysis and integration of single-cell morphological data using metric geometry.](https://www.biorxiv.org/content/10.1101/2022.05.19.492525v3) (2022). DOI: 10.1101/2022.05.19.492525 (bioRxiv).\n",
    "\n",
    "To begin our analysis, we calculate the Gromov-Wasserstein distance between each pair of cells. For the sake of time, here we just sample 50 points per cell. This computation typically requires 20-30 minutes to complete on a standard desktop computer. A larger number of sampled points would offer better results, but would also increase the computing time."
   ]
  }
 ],
 "metadata": {
  "kernelspec": {
   "display_name": "Python 3 (ipykernel)",
   "language": "python",
   "name": "python3"
  },
  "language_info": {
   "codemirror_mode": {
    "name": "ipython",
    "version": 3
   },
   "file_extension": ".py",
   "mimetype": "text/x-python",
   "name": "python",
   "nbconvert_exporter": "python",
   "pygments_lexer": "ipython3",
   "version": "3.10.6"
  }
 },
 "nbformat": 4,
 "nbformat_minor": 5
}
