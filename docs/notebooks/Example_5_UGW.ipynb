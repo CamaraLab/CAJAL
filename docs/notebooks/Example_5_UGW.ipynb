{
 "cells": [
  {
   "cell_type": "markdown",
   "id": "5af8d526-b9fa-4568-9a58-fc34ee569243",
   "metadata": {},
   "source": [
    "# Tutorial 5: Unbalanced Gromov-Wasserstein Distances and Fused Gromov-Wasserstein distances\n",
    "This notebook demonstrates the practical usage of unbalanced GW and fused GW. The theory behind these concepts was introduced in the \"Variants of Gromov-Wasserstein\" page.\n",
    "\n",
    "## Using Unbalanced Gromov-Wasserstein\n",
    "We have implemented a Python module that allows the user to compute the unbalanced Gromov-Wasserstein distance between cells. By default, CAJAL ships with a single core version of the algorithm and a multicore version, and the user can uncomment the appropriate line in the package's `setup.py` build script to get a version of the algorithm for a GPU using either CUDA or OpenCL. These are disabled by default as the end user must configure their machine so that the CUDA (respectively, OpenCL) header files can be found and all necessary libraries are available. A few other backends can be made available upon request. Our experience shows that the GPU backends are only likely to be useful when the individual UGW problems are very large (i.e., the metric spaces are large)\n",
    "\n",
    "The user should only import one of the backend modules at a time due to technical limitations of C (C has no namespacing, so there will be symbol conflicts from identically named functions in the two backend modules). Restart the Python interpreter if you want to load a different backend module.\n",
    "\n",
    "Let us demonstrate how to use the implementation.\n",
    "\n",
    "We import the module we want to use, in this case the multicore implementation, and the UGW class. The constructor for the UGW class takes the backend module as its argument, establishes a connection with the library, and returns an object that maintains the internal state of the computation. The wrapper functions for the C backend are then accessible as *methods* of this object. If the user intends to parallelize at the level of Python processes, each process should instantiate the class. As usual one can call `help(UGW_multicore)`, `help(UGW_multicore.ugw_armijo)`, and so on for documentation of the functions."
   ]
  },
  {
   "cell_type": "code",
   "execution_count": 25,
   "id": "15e071a3-df96-4bdc-8420-47b6bd1cf623",
   "metadata": {},
   "outputs": [],
   "source": [
    "from cajal.ugw import _multicore, UGW # _single_core for single-threaded usage, useful if you want to parallelize at the level of Python processes\n",
    "\n",
    "UGW_multicore = UGW(_multicore) # For GPU backends, the constructor has to negotiate a connection to the GPU, so it may take a long time to initialize."
   ]
  },
  {
   "cell_type": "code",
   "execution_count": 27,
   "id": "3bb83f09",
   "metadata": {},
   "outputs": [],
   "source": [
    "from cajal.run_gw import cell_iterator_csv\n",
    "import numpy as np\n",
    "\n",
    "\n",
    "cells, icdms = zip(*cell_iterator_csv(\"/home/patn/dropbox/Data/AllenInstitute/swc_bdad_100pts_euclidean_icdm.csv\"))\n",
    "icdm_block = np.stack(icdms,axis=0) # For efficient memory usage and effective parallelization, the parallel function requires an array of cells of uniform length.\n",
    "\n",
    "# The appropriate parameters are sensitive to the absolute scales of your data. \n",
    "# To choose appropriate coefficients you can run the ordinary GW computation first and use this to estimate the appropriate scales,\n",
    "rho1 = 4000.\n",
    "rho2 = 4000.\n",
    "eps = 100.\n",
    "\n",
    "UGW_results = UGW_multicore.ugw_armijo_pairwise_unif(\n",
    "    rho1 = rho1,\n",
    "    rho2 = rho2,\n",
    "    eps = eps,\n",
    "    dmats = icdm_block\n",
    ")\n",
    "UGW_array = UGW_multicore.from_futhark(UGW_results)"
   ]
  },
  {
   "cell_type": "code",
   "execution_count": 19,
   "id": "6a9e1a2c",
   "metadata": {},
   "outputs": [],
   "source": [
    "from os.path import join\n",
    "bd = \"/home/patn/dropbox/Data/AllenInstitute/\""
   ]
  },
  {
   "cell_type": "code",
   "execution_count": null,
   "id": "b98b4364",
   "metadata": {},
   "outputs": [],
   "source": [
    "rho1 = 4000.\n",
    "rho2 = 4000.\n",
    "eps = 100.\n",
    "\n",
    "UGW_results = UGW_multicore.ugw_armijo_pairwise_unif(\n",
    "    rho1 = rho1,\n",
    "    rho2 = rho2,\n",
    "    eps = eps,\n",
    "    dmats = icdm_block\n",
    ")\n",
    "UGW_array = UGW_multicore.from_futhark(UGW_results)"
   ]
  },
  {
   "cell_type": "markdown",
   "id": "6938dbc4",
   "metadata": {},
   "source": [
    "The \".from_futhark()\" method converts the library's internal representation of the output to a Numpy array."
   ]
  },
  {
   "cell_type": "markdown",
   "id": "2fc66d34",
   "metadata": {},
   "source": [
    "The returned array has five columns, corresponding to $\\mathcal{G}(T)$, the first and second marginal costs $KL(\\pi_X(T)\\otimes\\pi_X(T)\\mid \\mu\\otimes\\mu)$ and $KL(\\pi_Y(T)\\otimes\\pi_Y(T)\\mid \\nu\\otimes\\nu)$, and the entropy regularization term $KL(T\\otimes T\\mid (\\mu\\otimes\\nu)\\otimes(\\mu\\otimes \\nu))$, and the weighted linear combination $\\mathcal{L}_\\varepsilon(T)=UGW_\\varepsilon$, where $T$ was the optimal coupling found by the search. In our analysis, we choose to use $\\mathcal{L}$ rather than $\\mathcal{L}_\\varepsilon$ as the measure of \"distance\", because the regularization term is only present for computational reasons and it doesn't inform us about morphological distinctions."
   ]
  },
  {
   "cell_type": "code",
   "execution_count": 11,
   "id": "b29b0586",
   "metadata": {},
   "outputs": [],
   "source": [
    "from scipy.spatial.distance import squareform\n",
    "UGW_dmat = squareform(UGW_array[:,0] + rho1 * UGW_array[:,1] + rho2 * UGW_array[:,2])"
   ]
  },
  {
   "cell_type": "code",
   "execution_count": 4,
   "id": "6fa4e87d",
   "metadata": {},
   "outputs": [],
   "source": [
    "import numpy as np\n",
    "from os.path import join\n",
    "bd = \"/home/patn/dropbox/Data/AllenInstitute\"\n",
    "UGW_array = np.load(join(bd,\"unbalanced_gw_bdad_100pts_euclidean_rho1_4000_rho2_4000_eps_100.csv.npy\"))"
   ]
  },
  {
   "cell_type": "code",
   "execution_count": 7,
   "id": "78e048c4",
   "metadata": {},
   "outputs": [],
   "source": [
    "import pandas as pd\n",
    "from sklearn.neighbors import KNeighborsClassifier\n",
    "from sklearn.model_selection import StratifiedKFold, cross_val_score\n",
    "\n",
    "metadata = pd.read_csv(join(bd,\"cell_types_specimen_details.csv\"),index_col='specimen__id').loc[pd.Series(cells).map(int)]"
   ]
  },
  {
   "cell_type": "code",
   "execution_count": 12,
   "id": "ed74dc7c",
   "metadata": {},
   "outputs": [
    {
     "name": "stderr",
     "output_type": "stream",
     "text": [
      "/home/patn/PGC012_Gromov_Wasserstein/venv/lib/python3.12/site-packages/sklearn/model_selection/_split.py:776: UserWarning: The least populated class in y has only 1 members, which is less than n_splits=7.\n",
      "  warnings.warn(\n"
     ]
    },
    {
     "data": {
      "text/plain": [
       "0.31047510328332245"
      ]
     },
     "execution_count": 12,
     "metadata": {},
     "output_type": "execute_result"
    }
   ],
   "source": [
    "cre_lines = np.array(metadata[\"line_name\"])\n",
    "\n",
    "clf = KNeighborsClassifier(metric=\"precomputed\", n_neighbors=10, weights=\"distance\")\n",
    "cv = StratifiedKFold(n_splits=7, shuffle=True, random_state=0)\n",
    "accuracy = cross_val_score(clf, X=UGW_dmat, y=cre_lines,cv=cv)\n",
    "\n",
    "np.mean(accuracy)"
   ]
  },
  {
   "cell_type": "code",
   "execution_count": 13,
   "id": "0f0bff30",
   "metadata": {},
   "outputs": [
    {
     "name": "stdout",
     "output_type": "stream",
     "text": [
      "0.2570621070384286\n"
     ]
    },
    {
     "name": "stderr",
     "output_type": "stream",
     "text": [
      "/home/patn/PGC012_Gromov_Wasserstein/venv/lib/python3.12/site-packages/sklearn/model_selection/_split.py:776: UserWarning: The least populated class in y has only 1 members, which is less than n_splits=7.\n",
      "  warnings.warn(\n"
     ]
    }
   ],
   "source": [
    "from sklearn.model_selection import cross_val_predict\n",
    "from sklearn.metrics import matthews_corrcoef\n",
    "\n",
    "cvp = cross_val_predict(clf, X=UGW_dmat, y=cre_lines, cv=cv)\n",
    "\n",
    "print(matthews_corrcoef(cvp, cre_lines))"
   ]
  },
  {
   "cell_type": "markdown",
   "id": "6170bcc7",
   "metadata": {},
   "source": [
    "The accuracy of 0.310 and the MCC of 0.257 are slightly better then the accuracy and MCC we observed in Tutorial 1 with ordinary GW of 0.296 and 0.242 respectively, a modest increase of about 5%. (Of course, these statistics themselves say nothing about the sampling distribution that they are drawn from, and a different set of neurons or a different cross-validation seed would give different numbers, so there are some limits to their interpretability.)"
   ]
  },
  {
   "cell_type": "code",
   "execution_count": 20,
   "id": "865b7997",
   "metadata": {},
   "outputs": [
    {
     "name": "stderr",
     "output_type": "stream",
     "text": [
      "100%|█████████▉| 508/509 [00:06<00:00, 79.50it/s] \n"
     ]
    },
    {
     "data": {
      "text/plain": [
       "[]"
      ]
     },
     "execution_count": 20,
     "metadata": {},
     "output_type": "execute_result"
    }
   ],
   "source": [
    "import cajal.sample_swc, cajal.swc\n",
    "\n",
    "cajal.sample_swc.compute_icdm_all_geodesic(\n",
    "    infolder=join(bd, 'swc'),\n",
    "    out_csv=join(bd, 'swc_bdad_100pts_geodesic_icdm.csv'),\n",
    "    preprocess=cajal.swc.preprocessor_geo(\n",
    "        structure_ids=[1,3,4]),\n",
    "    n_sample=100)"
   ]
  },
  {
   "cell_type": "code",
   "execution_count": 21,
   "id": "c3cb9e69",
   "metadata": {},
   "outputs": [
    {
     "data": {
      "application/vnd.jupyter.widget-view+json": {
       "model_id": "259ccaadd7604f19906026bd96e9508a",
       "version_major": 2,
       "version_minor": 0
      },
      "text/plain": [
       "  0%|          | 0/129286 [00:00<?, ?it/s]"
      ]
     },
     "metadata": {},
     "output_type": "display_data"
    },
    {
     "data": {
      "text/plain": [
       "(array([[ 0.        , 55.22678091, 29.96775976, ..., 33.70196277,\n",
       "         28.89944618, 43.30072298],\n",
       "        [55.22678091,  0.        , 64.18048016, ..., 67.20359832,\n",
       "         63.98534729, 63.61532619],\n",
       "        [29.96775976, 64.18048016,  0.        , ..., 22.15445984,\n",
       "         25.95531057, 51.88901184],\n",
       "        ...,\n",
       "        [33.70196277, 67.20359832, 22.15445984, ...,  0.        ,\n",
       "         26.78978415, 60.35736956],\n",
       "        [28.89944618, 63.98534729, 25.95531057, ..., 26.78978415,\n",
       "          0.        , 48.84018813],\n",
       "        [43.30072298, 63.61532619, 51.88901184, ..., 60.35736956,\n",
       "         48.84018813,  0.        ]]),\n",
       " None)"
      ]
     },
     "execution_count": 21,
     "metadata": {},
     "output_type": "execute_result"
    }
   ],
   "source": [
    "import cajal.run_gw\n",
    "cajal.run_gw.compute_gw_distance_matrix(\n",
    "    join(bd, 'swc_bdad_100pts_geodesic_icdm.csv'),\n",
    "    join(bd, 'swc_bdad_100pts_geodesic_gw.csv'),\n",
    "    16\n",
    ")"
   ]
  },
  {
   "cell_type": "code",
   "execution_count": 22,
   "id": "9719a27d",
   "metadata": {},
   "outputs": [],
   "source": [
    "import cajal.utilities\n",
    "\n",
    "\n",
    "cell_names, gw_geo = cajal.utilities.read_gw_dists(join(bd, 'swc_bdad_100pts_geodesic_gw.csv'), header=True)\n",
    "gw_geo_dmat = cajal.utilities.dist_mat_of_dict(gw_geo,cell_names)"
   ]
  },
  {
   "cell_type": "code",
   "execution_count": 23,
   "id": "174fd5e0",
   "metadata": {},
   "outputs": [
    {
     "name": "stderr",
     "output_type": "stream",
     "text": [
      "/home/patn/PGC012_Gromov_Wasserstein/venv/lib/python3.12/site-packages/sklearn/model_selection/_split.py:776: UserWarning: The least populated class in y has only 1 members, which is less than n_splits=7.\n",
      "  warnings.warn(\n"
     ]
    },
    {
     "data": {
      "text/plain": [
       "0.2770982822352685"
      ]
     },
     "execution_count": 23,
     "metadata": {},
     "output_type": "execute_result"
    }
   ],
   "source": [
    "clf = KNeighborsClassifier(metric=\"precomputed\", n_neighbors=10, weights=\"distance\")\n",
    "cv = StratifiedKFold(n_splits=7, shuffle=True, random_state=0)\n",
    "accuracy = cross_val_score(clf, X=gw_geo_dmat, y=cre_lines,cv=cv)\n",
    "\n",
    "np.mean(accuracy)"
   ]
  },
  {
   "cell_type": "code",
   "execution_count": 19,
   "id": "8706f095",
   "metadata": {},
   "outputs": [
    {
     "name": "stdout",
     "output_type": "stream",
     "text": [
      "0.24253698545564495\n"
     ]
    },
    {
     "name": "stderr",
     "output_type": "stream",
     "text": [
      "/home/patn/PGC012_Gromov_Wasserstein/venv/lib/python3.12/site-packages/sklearn/model_selection/_split.py:776: UserWarning: The least populated class in y has only 1 members, which is less than n_splits=7.\n",
      "  warnings.warn(\n"
     ]
    }
   ],
   "source": [
    "from sklearn.model_selection import cross_val_predict\n",
    "from sklearn.metrics import matthews_corrcoef\n",
    "\n",
    "cvp = cross_val_predict(clf, X=gw_geo_dmat, y=cre_lines, cv=cv)\n",
    "\n",
    "print(matthews_corrcoef(cvp, cre_lines))"
   ]
  },
  {
   "cell_type": "code",
   "execution_count": 24,
   "id": "68c681c3",
   "metadata": {},
   "outputs": [
    {
     "ename": "NameError",
     "evalue": "name 'UGW_multicore' is not defined",
     "output_type": "error",
     "traceback": [
      "\u001b[0;31m---------------------------------------------------------------------------\u001b[0m",
      "\u001b[0;31mNameError\u001b[0m                                 Traceback (most recent call last)",
      "Cell \u001b[0;32mIn[24], line 8\u001b[0m\n\u001b[1;32m      5\u001b[0m cells, geo_icdms \u001b[38;5;241m=\u001b[39m \u001b[38;5;28mzip\u001b[39m(\u001b[38;5;241m*\u001b[39mcell_iterator_csv(\u001b[38;5;124m\"\u001b[39m\u001b[38;5;124m/home/patn/dropbox/Data/AllenInstitute/swc_bdad_100pts_geodesic_icdm.csv\u001b[39m\u001b[38;5;124m\"\u001b[39m))\n\u001b[1;32m      6\u001b[0m geo_icdm_block \u001b[38;5;241m=\u001b[39m np\u001b[38;5;241m.\u001b[39mstack(geo_icdms, axis\u001b[38;5;241m=\u001b[39m\u001b[38;5;241m0\u001b[39m)\n\u001b[0;32m----> 8\u001b[0m UGW_results_geo \u001b[38;5;241m=\u001b[39m \u001b[43mUGW_multicore\u001b[49m\u001b[38;5;241m.\u001b[39mugw_armijo_pairwise_unif(\n\u001b[1;32m      9\u001b[0m     rho1 \u001b[38;5;241m=\u001b[39m rho1,\n\u001b[1;32m     10\u001b[0m     rho2 \u001b[38;5;241m=\u001b[39m rho2,\n\u001b[1;32m     11\u001b[0m     eps \u001b[38;5;241m=\u001b[39m eps,\n\u001b[1;32m     12\u001b[0m     dmats \u001b[38;5;241m=\u001b[39m icdm_block\n\u001b[1;32m     13\u001b[0m )\n\u001b[1;32m     14\u001b[0m UGW_array_geo \u001b[38;5;241m=\u001b[39m UGW_multicore\u001b[38;5;241m.\u001b[39mfrom_futhark(UGW_results_geo)\n\u001b[1;32m     15\u001b[0m np\u001b[38;5;241m.\u001b[39msave(join(bd,\u001b[38;5;124m\"\u001b[39m\u001b[38;5;124mswc_bdad_100pts_geodesic_ugw_array_geo.npy\u001b[39m\u001b[38;5;124m\"\u001b[39m), UGW_array_geo)\n",
      "\u001b[0;31mNameError\u001b[0m: name 'UGW_multicore' is not defined"
     ]
    }
   ],
   "source": [
    "rho1 = 4000.\n",
    "rho2 = 4000.\n",
    "eps = 100.\n",
    "\n",
    "cells, geo_icdms = zip(*cell_iterator_csv(\"/home/patn/dropbox/Data/AllenInstitute/swc_bdad_100pts_geodesic_icdm.csv\"))\n",
    "geo_icdm_block = np.stack(geo_icdms, axis=0)\n"
   ]
  },
  {
   "cell_type": "code",
   "execution_count": null,
   "id": "5a85a3e0",
   "metadata": {},
   "outputs": [],
   "source": [
    "\n",
    "UGW_results_geo = UGW_multicore.ugw_armijo_pairwise_unif(\n",
    "    rho1 = rho1,\n",
    "    rho2 = rho2,\n",
    "    eps = eps,\n",
    "    dmats = geo_icdm_block\n",
    ")\n",
    "UGW_array_geo = UGW_multicore.from_futhark(UGW_results_geo)\n",
    "np.save(join(bd,\"swc_bdad_100pts_geodesic_ugw_array_geo.npy\"), UGW_array_geo)"
   ]
  },
  {
   "cell_type": "code",
   "execution_count": null,
   "id": "e10f2269",
   "metadata": {},
   "outputs": [],
   "source": []
  }
 ],
 "metadata": {
  "kernelspec": {
   "display_name": "venv",
   "language": "python",
   "name": "python3"
  },
  "language_info": {
   "codemirror_mode": {
    "name": "ipython",
    "version": 3
   },
   "file_extension": ".py",
   "mimetype": "text/x-python",
   "name": "python",
   "nbconvert_exporter": "python",
   "pygments_lexer": "ipython3",
   "version": "3.12.3"
  }
 },
 "nbformat": 4,
 "nbformat_minor": 5
}
