{
 "cells": [
  {
   "cell_type": "markdown",
   "id": "a26b4379-dde0-4042-a590-4b5977754bcb",
   "metadata": {},
   "source": [
    "Tutorial: Genetic Determinants of Neuronal Morphology\n",
    "=====================================================\n",
    "We will illustrate the utility of the Laplacian score in identifying genes that\n",
    "contribute to the neuronal plasticity in the C. elegans. This example utilizes a dataset consisting of 799 3D neuronal reconstructions of the C.elegans DVB neuron across various mutant and control strains during days 1 to 5 of adulthood. The dataset can be downloaded from the following\n",
    "[folder](https://www.dropbox.com/scl/fo/y7axeardkwyn1d6j97dqr/h?dl=0&rlkey=4b65w4tc93e778rql72d275ym). The DVB neuron is an excitatory GABAergic motor\n",
    "interneuron located in the dorso-rectal ganglion of the worm, and is known to undergo post-developmental neurite outgrowth in males. This outgrowth \n",
    "alters the neuron's morphology and synaptic connectivity, contributing to\n",
    "changes in the spicule protraction step of male mating behavior. More information about this \n",
    "dataset can be found at:\n",
    "\n",
    "\\- Hart, M. P. & Hobert, O. [Neurexin controls plasticity of a mature, sexually dimorphic neuron.](https://www.nature.com/articles/nature25192) Nature 553, 165-170, (2018).\n",
    "\n",
    "\\- Govek, K. W. et al. [Analysis and integration of single-cell morphological data using metric geometry.](https://www.biorxiv.org/content/10.1101/2022.05.19.492525v3) (2022). DOI: 10.1101/2022.05.19.492525 (bioRxiv).\n",
    "\n",
    "To begin our analysis, we calculate the Gromov-Wasserstein distance between each pair of cells. For the sake of time, here we just sample 50 points per cell. This computation typically requires 20-30 minutes to complete on a standard desktop computer. A larger number of sampled points would offer better results, but would also increase the computing time."
   ]
  },
  {
   "cell_type": "code",
   "execution_count": 1,
   "id": "53a237d8-6334-4efe-8fc3-1a8a18284458",
   "metadata": {},
   "outputs": [
    {
     "name": "stdout",
     "output_type": "stream",
     "text": [
      "1\n",
      "101\n",
      "201\n",
      "301\n",
      "401\n",
      "501\n",
      "601\n",
      "701\n",
      "Computation finished. Computed 318801 cell pairs. Time elapsed: 1591.9364891052246\n"
     ]
    }
   ],
   "source": [
    "import cajal.sample_swc\n",
    "import cajal.swc\n",
    "import cajal.run_gw\n",
    "\n",
    "cajal.sample_swc.compute_icdm_all_geodesic(\n",
    "    infolder=\"CAJAL/data_worm/swc/\",\n",
    "    out_csv=\"CAJAL/data_worm/c_elegans_icdm.csv\",\n",
    "    preprocess=cajal.swc.preprocessor_geo(\n",
    "        structure_ids=\"keep_all_types\"),\n",
    "    n_sample=50,\n",
    "    num_cores=8)\n",
    "\n",
    "cajal.run_gw.compute_gw_distance_matrix(\n",
    "    \"CAJAL/data_worm/c_elegans_icdm.csv\",\n",
    "    \"CAJAL/data_worm/c_elegans_gw_dist.csv\")"
   ]
  },
  {
   "cell_type": "markdown",
   "id": "bce9dec3-a170-4946-b35f-01f7282b11fa",
   "metadata": {},
   "source": [
    "We can generate a UMAP plot that visualizes the cell morphology space, with each point colored according to the age of each worm in days. The metadata for each neuron in this example is provided in the file ```CAJAL/data/c_elegans_features.csv```, which can be found in the GitHub repository of CAJAL. This metadata includes information such as the age of the worm in days and the genotype of each gene (0: wild-type; 1: mutant)."
   ]
  },
  {
   "cell_type": "code",
   "execution_count": 9,
   "id": "4ce75619-c439-4273-93c3-ce224eb8ea43",
   "metadata": {},
   "outputs": [
    {
     "name": "stderr",
     "output_type": "stream",
     "text": [
      "/opt/conda/lib/python3.10/site-packages/umap/umap_.py:1780: UserWarning:\n",
      "\n",
      "using precomputed metric; inverse_transform will be unavailable\n",
      "\n"
     ]
    },
    {
     "data": {
      "text/html": [
       "<iframe\n",
       "    scrolling=\"no\"\n",
       "    width=\"100%\"\n",
       "    height=\"545px\"\n",
       "    src=\"iframe_figures/figure_9.html\"\n",
       "    frameborder=\"0\"\n",
       "    allowfullscreen\n",
       "></iframe>\n"
      ]
     },
     "metadata": {},
     "output_type": "display_data"
    }
   ],
   "source": [
    "import cajal.utilities\n",
    "import umap\n",
    "import pandas\n",
    "import plotly.express\n",
    "\n",
    "# Read GW distance matrix\n",
    "cells, gw_dist_dict = cajal.utilities.read_gw_dists(\"CAJAL/data_worm/c_elegans_gw_dist.csv\", header=True)\n",
    "gw_dist = cajal.utilities.dist_mat_of_dict(gw_dist_dict)\n",
    "\n",
    "# Compute UMAP representation\n",
    "reducer = umap.UMAP(metric=\"precomputed\", random_state=1)\n",
    "embedding = reducer.fit_transform(gw_dist)\n",
    "\n",
    "# Download metadata\n",
    "metadata = pandas.read_csv(\"CAJAL/data_worm/c_elegans_features.csv\", index_col = \"cell_name\")\n",
    "\n",
    "# Visualize UMAP\n",
    "plotly.express.scatter(x=embedding[:,0], \n",
    "                       y=embedding[:,1], \n",
    "                       template=\"simple_white\", \n",
    "                       hover_name=[m + \".swc\" for m in cells],\n",
    "                       color = [str(m) for m in metadata[\"day\"]])"
   ]
  },
  {
   "cell_type": "markdown",
   "id": "22ce09e2-04d7-48b3-9f52-707ed46c1a9b",
   "metadata": {},
   "source": [
    "Unsurprisingly, the age of the worm plays a significant role in shaping the morphology of its neurons. This is evident in the UMAP representation above, which reveals that neurons of different ages cluster in distinct regions of the UMAP. To quantify this association, we can use the Laplacian score:"
   ]
  },
  {
   "cell_type": "code",
   "execution_count": 4,
   "id": "160828b1-4f34-4932-a8cd-ba3e99384bf8",
   "metadata": {},
   "outputs": [
    {
     "name": "stdout",
     "output_type": "stream",
     "text": [
      "   feature_laplacians  laplacian_p_values  laplacian_q_values\n",
      "0            0.951447              0.0002              0.0002\n"
     ]
    }
   ],
   "source": [
    "import cajal.laplacian_score\n",
    "import numpy\n",
    "from scipy.spatial.distance import squareform\n",
    "\n",
    "laplacian = pandas.DataFrame(cajal.laplacian_score.laplacian_scores(numpy.array(metadata[\"day\"]).reshape(799,1), \n",
    "                                       gw_dist, \n",
    "                                       numpy.median(squareform(gw_dist)), \n",
    "                                       permutations = 5000, \n",
    "                                       covariates = None, \n",
    "                                       return_random_laplacians = False)[0])\n",
    "\n",
    "print(laplacian)"
   ]
  },
  {
   "cell_type": "markdown",
   "id": "049c2bbd-68d1-4af9-8891-754be0bc0353",
   "metadata": {},
   "source": [
    "A very small p value suggests a strong association between the age of the worm and the morphology of the DVB neuron.\n",
    "\n",
    "Moving forward, our goal is to identify mutations that impact the morphology of the DVB neuron. To achieve this, we will rely on the Laplacian score once again. However, it is essential to consider the unequal representation of worms with a given genotype across different ages in the dataset. To address this issue, we will account for the uneven distribution of ages for each genotype. As an example, we will investigate the impact of deleterious mutations in the unc-25 gene. Let us first look at their distribution in the cell morphology space:"
   ]
  },
  {
   "cell_type": "code",
   "execution_count": 10,
   "id": "4aa8adfd-ba8b-4bf1-a7c5-038b32003d8a",
   "metadata": {},
   "outputs": [
    {
     "data": {
      "text/html": [
       "<iframe\n",
       "    scrolling=\"no\"\n",
       "    width=\"100%\"\n",
       "    height=\"545px\"\n",
       "    src=\"iframe_figures/figure_10.html\"\n",
       "    frameborder=\"0\"\n",
       "    allowfullscreen\n",
       "></iframe>\n"
      ]
     },
     "metadata": {},
     "output_type": "display_data"
    }
   ],
   "source": [
    "plotly.express.scatter(x=embedding[:,0], \n",
    "                       y=embedding[:,1], \n",
    "                       template=\"simple_white\", \n",
    "                       hover_name=[m + \".swc\" for m in cells],\n",
    "                       color = [str(m) for m in metadata[\"unc-25\"]])"
   ]
  },
  {
   "cell_type": "markdown",
   "id": "0e14256a-416e-42fc-97cd-45a61ca8d947",
   "metadata": {},
   "source": [
    "The UMAP representation reveals that cells with a deleterious mutation in unc-25 exhibit similar morphology, a finding supported by the small p-value of the Laplacian score of unc-25 in the cell morphology space:"
   ]
  },
  {
   "cell_type": "code",
   "execution_count": 6,
   "id": "038a889a-14dc-4a12-88c9-2bcd4e2b768a",
   "metadata": {},
   "outputs": [
    {
     "name": "stdout",
     "output_type": "stream",
     "text": [
      "   feature_laplacians  laplacian_p_values  laplacian_q_values\n",
      "0            0.995089              0.0012              0.0012\n"
     ]
    }
   ],
   "source": [
    "laplacian = pandas.DataFrame(cajal.laplacian_score.laplacian_scores(numpy.array(metadata[\"unc-25\"]).reshape(799,1), \n",
    "                                       gw_dist, \n",
    "                                       numpy.median(squareform(gw_dist)), \n",
    "                                       permutations = 5000, \n",
    "                                       covariates = None, \n",
    "                                       return_random_laplacians = False)[0])\n",
    "\n",
    "print(laplacian)"
   ]
  },
  {
   "cell_type": "markdown",
   "id": "4fc736c5-daad-4b94-8f84-f4660b7b3ff4",
   "metadata": {},
   "source": [
    "However, most of the samples with a mutation in unc-25 were obrained from worms with ages 1 or 3 days:"
   ]
  },
  {
   "cell_type": "code",
   "execution_count": 7,
   "id": "654e596a-984c-4de4-a33c-7d4b92ac9696",
   "metadata": {},
   "outputs": [
    {
     "data": {
      "text/plain": [
       "1    18\n",
       "3     6\n",
       "Name: day, dtype: int64"
      ]
     },
     "execution_count": 7,
     "metadata": {},
     "output_type": "execute_result"
    }
   ],
   "source": [
    "metadata.loc[metadata[\"unc-25\"]==1,\"day\"].value_counts()"
   ]
  },
  {
   "cell_type": "markdown",
   "id": "9dcec8a4-0247-41fc-9ddc-a47ef158b22b",
   "metadata": {},
   "source": [
    "This leads to the question: is the comparable morphology of neurons with a deleterious mutation in unc-25 attributed to the mutation itself or the similar age of the worms? To address this issue, we can employ the Laplacian score but treating the age of the worm as a covariate:"
   ]
  },
  {
   "cell_type": "code",
   "execution_count": 8,
   "id": "ef83e32d-47a7-4908-859a-2e439dfeb968",
   "metadata": {},
   "outputs": [
    {
     "name": "stdout",
     "output_type": "stream",
     "text": [
      "        feature_laplacians  laplacian_p_values  laplacian_q_values    beta_0  \\\n",
      "nrx-1             0.996573            0.002799            0.006159  0.978138   \n",
      "mir-1             1.000141            0.123775            0.151281  0.983826   \n",
      "unc-49            0.996214            0.003199            0.005865  0.988101   \n",
      "nlg-1             0.994699            0.001000            0.002749  0.971700   \n",
      "unc-25            0.995089            0.000800            0.003519  0.921371   \n",
      "unc-97            0.961518            0.000200            0.002200  1.023469   \n",
      "lim-6             1.000951            0.302140            0.332354  1.028147   \n",
      "lat-2             0.994027            0.000800            0.003519  1.018798   \n",
      "ptp-3             0.999623            0.082783            0.113827  1.006270   \n",
      "sup-17            0.997835            0.014197            0.022310  0.969905   \n",
      "pkd-2             1.001720            0.536293            0.536293  0.972349   \n",
      "\n",
      "          beta_1  beta_1_p_value  regression_coefficients_fstat_p_values  \\\n",
      "nrx-1   0.023318    4.852261e-02                            9.704522e-02   \n",
      "mir-1   0.017673    1.028461e-01                            2.056923e-01   \n",
      "unc-49  0.013346    1.790977e-01                            3.581954e-01   \n",
      "nlg-1   0.029714    2.199646e-02                            4.399292e-02   \n",
      "unc-25  0.080008    6.636685e-09                            1.327337e-08   \n",
      "unc-97 -0.021972    9.336969e-01                            1.326062e-01   \n",
      "lim-6  -0.026674    9.635549e-01                            7.289015e-02   \n",
      "lat-2  -0.017332    8.842000e-01                            2.316000e-01   \n",
      "ptp-3  -0.004823    6.313841e-01                            7.372319e-01   \n",
      "sup-17  0.031535    1.404337e-02                            2.808673e-02   \n",
      "pkd-2   0.029077    2.216154e-02                            4.432307e-02   \n",
      "\n",
      "        laplacian_p_values_post_regression  laplacian_q_values_post_regression  \n",
      "nrx-1                             0.011598                            0.025515  \n",
      "mir-1                             0.305539                            0.336093  \n",
      "unc-49                            0.006399                            0.017596  \n",
      "nlg-1                             0.004799                            0.017596  \n",
      "unc-25                            0.045991                            0.084316  \n",
      "unc-97                            0.000200                            0.002200  \n",
      "lim-6                             0.080584                            0.098491  \n",
      "lat-2                             0.000400                            0.002200  \n",
      "ptp-3                             0.064187                            0.100866  \n",
      "sup-17                            0.064387                            0.088532  \n",
      "pkd-2                             0.934013                            0.934013  \n"
     ]
    }
   ],
   "source": [
    "laplacian = pandas.DataFrame(cajal.laplacian_score.laplacian_scores(numpy.array(metadata.iloc[:,0:11]), \n",
    "                                       gw_dist, \n",
    "                                       numpy.median(squareform(gw_dist)), \n",
    "                                       permutations = 5000, \n",
    "                                       covariates = numpy.array(metadata[\"day\"]), \n",
    "                                       return_random_laplacians = False)[0])\n",
    "laplacian.index = metadata.columns.values.tolist()[0:11]\n",
    "\n",
    "print(laplacian)"
   ]
  },
  {
   "cell_type": "markdown",
   "id": "2fafac17-abde-471e-a843-8d196e2e1dd4",
   "metadata": {},
   "source": [
    "Upon examining the table, we note that the q-value of unc-25 shifts from 0.0008 to 0.05 after adjusting for the covariate effect. Consistent with this, the F-statistic suggests a considerable impact of the covariate on the Laplacian score of unc-25, as evidenced by the low p-value of the F-statistic."
   ]
  }
 ],
 "metadata": {
  "kernelspec": {
   "display_name": "Python 3 (ipykernel)",
   "language": "python",
   "name": "python3"
  },
  "language_info": {
   "codemirror_mode": {
    "name": "ipython",
    "version": 3
   },
   "file_extension": ".py",
   "mimetype": "text/x-python",
   "name": "python",
   "nbconvert_exporter": "python",
   "pygments_lexer": "ipython3",
   "version": "3.10.6"
  }
 },
 "nbformat": 4,
 "nbformat_minor": 5
}
