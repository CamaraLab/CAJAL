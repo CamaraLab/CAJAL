{
 "cells": [
  {
   "cell_type": "code",
   "execution_count": 1,
   "metadata": {},
   "outputs": [],
   "source": [
    "import os\n",
    "import time\n",
    "\n",
    "from CAJAL.lib import run_gw, sample_swc"
   ]
  },
  {
   "cell_type": "markdown",
   "metadata": {},
   "source": [
    "# Run GW on sampled points using scipy dist metric (usually Euclidean)"
   ]
  },
  {
   "cell_type": "code",
   "execution_count": 2,
   "metadata": {},
   "outputs": [
    {
     "name": "stderr",
     "output_type": "stream",
     "text": [
      "/home/patn/CAJAL/CAJAL/lib/sample_swc.py:161: UserWarning: More disconnected segments in neuron than points to sample, skipping\n",
      "  warnings.warn(\"More disconnected segments in neuron than points to sample, skipping\")\n",
      "/home/patn/CAJAL/CAJAL/lib/sample_swc.py:161: UserWarning: More disconnected segments in neuron than points to sample, skipping\n",
      "  warnings.warn(\"More disconnected segments in neuron than points to sample, skipping\")\n",
      "/home/patn/CAJAL/CAJAL/lib/sample_swc.py:161: UserWarning: More disconnected segments in neuron than points to sample, skipping\n",
      "  warnings.warn(\"More disconnected segments in neuron than points to sample, skipping\")\n",
      "/home/patn/CAJAL/CAJAL/lib/sample_swc.py:161: UserWarning: More disconnected segments in neuron than points to sample, skipping\n",
      "  warnings.warn(\"More disconnected segments in neuron than points to sample, skipping\")\n",
      "/home/patn/CAJAL/CAJAL/lib/sample_swc.py:161: UserWarning: More disconnected segments in neuron than points to sample, skipping\n",
      "  warnings.warn(\"More disconnected segments in neuron than points to sample, skipping\")\n",
      "/home/patn/CAJAL/CAJAL/lib/sample_swc.py:161: UserWarning: More disconnected segments in neuron than points to sample, skipping\n",
      "  warnings.warn(\"More disconnected segments in neuron than points to sample, skipping\")\n",
      "/home/patn/CAJAL/CAJAL/lib/sample_swc.py:161: UserWarning: More disconnected segments in neuron than points to sample, skipping\n",
      "  warnings.warn(\"More disconnected segments in neuron than points to sample, skipping\")\n",
      "/home/patn/CAJAL/CAJAL/lib/sample_swc.py:161: UserWarning: More disconnected segments in neuron than points to sample, skipping\n",
      "  warnings.warn(\"More disconnected segments in neuron than points to sample, skipping\")\n"
     ]
    },
    {
     "name": "stdout",
     "output_type": "stream",
     "text": [
      "Total time elapsed: 46.466s\n"
     ]
    }
   ],
   "source": [
    "# Sample points from neuron reconstruction files\n",
    "start = time.time()\n",
    "infolder = \"../CAJAL/data/swc_files\"\n",
    "outfolder = \"../CAJAL/data/sampled_pts/swc_sampled_50\"\n",
    "sample_swc.save_sample_pts_parallel(infolder, outfolder, types_keep=[0, 1, 2, 3, 4],\n",
    "                                    goal_num_pts=50, num_cores=8)\n",
    "print('Total time elapsed: {:.3f}s'.format(time.time() - start))"
   ]
  },
  {
   "cell_type": "code",
   "execution_count": 3,
   "metadata": {},
   "outputs": [],
   "source": [
    "# Set parameters\n",
    "data_dir = os.path.abspath('../CAJAL/data/sampled_pts/swc_sampled_50/')\n",
    "gw_results_dir = os.path.abspath('../CAJAL/data/gw_results')\n",
    "data_prefix = \"a10_full\" # Not required, but helpful if another file (like python_list_dir.txt) is in same folder\n",
    "num_cores = 12\n",
    "file_prefix = \"a10_full_euclidean\""
   ]
  },
  {
   "cell_type": "code",
   "execution_count": 5,
   "metadata": {},
   "outputs": [
    {
     "name": "stdout",
     "output_type": "stream",
     "text": [
      "Calculating distances between points in each dataset\n",
      "Calculating GW distances between datasets\n",
      "Time to compute distances: 0.192s\n",
      "Time in GW calculation: 7.003s\n",
      "Total time elapsed: 7.195s\n"
     ]
    }
   ],
   "source": [
    "# Compute Euclidean distance on sampled points, then compute and save GW distance between cells\n",
    "t1 = time.time()\n",
    "print(\"Calculating distances between points in each dataset\")\n",
    "dist_mat_list = run_gw.get_intracell_distances_all(data_dir=data_dir, data_prefix=data_prefix)\n",
    "t2 = time.time()\n",
    "print(\"Calculating GW distances between datasets\")\n",
    "run_gw.compute_and_save_GW_dist_mat(dist_mat_list, file_prefix, gw_results_dir, save_mat=True, num_cores=num_cores)\n",
    "t3 = time.time()\n",
    "print('Time to compute distances: {:.3f}s'.format(t2 - t1))\n",
    "print('Time in GW calculation: {:.3f}s'.format(t3 - t2))\n",
    "print('Total time elapsed: {:.3f}s'.format(t3 - t1))"
   ]
  },
  {
   "cell_type": "markdown",
   "metadata": {},
   "source": [
    "# Run GW on precomputed distance (usually geodesic)"
   ]
  },
  {
   "cell_type": "code",
   "execution_count": 6,
   "metadata": {},
   "outputs": [
    {
     "name": "stdout",
     "output_type": "stream",
     "text": [
      "Total time elapsed: 50.909s\n"
     ]
    }
   ],
   "source": [
    "# Save geodesic network distance on sampled points from neuron reconstruction files\n",
    "start = time.time()\n",
    "infolder = \"../CAJAL/data/swc_files\"\n",
    "outfolder = \"../CAJAL/data/sampled_pts/swc_geodesic_50\"\n",
    "sample_swc.save_geodesic_parallel(infolder, outfolder, types_keep=[0, 1, 2, 3, 4],\n",
    "                                  goal_num_pts=50, num_cores=8)\n",
    "print('Total time elapsed: {:.3f}s'.format(time.time() - start))"
   ]
  },
  {
   "cell_type": "code",
   "execution_count": 7,
   "metadata": {},
   "outputs": [],
   "source": [
    "# Set parameters\n",
    "distances_dir = os.path.abspath('../CAJAL/data/sampled_pts/swc_geodesic_50/')\n",
    "gw_results_dir = os.path.abspath('../CAJAL/data/gw_results')\n",
    "data_prefix = \"a10_full\" # Not required, but helpful if another file (like python_list_dir.txt) is in same folder\n",
    "num_cores = 12\n",
    "file_prefix = \"a10_full_geodesic\""
   ]
  },
  {
   "cell_type": "code",
   "execution_count": 9,
   "metadata": {},
   "outputs": [
    {
     "name": "stdout",
     "output_type": "stream",
     "text": [
      "Calculating distances between points in each dataset\n",
      "Calculating GW distances between datasets\n",
      "Time to load distances: 0.082s\n",
      "Time in GW calculation: 5.209s\n",
      "Total time elapsed: 5.290s\n"
     ]
    }
   ],
   "source": [
    "# Load geodesic distances, then compute and save GW distance between cells\n",
    "t1 = time.time()\n",
    "print(\"Calculating distances between points in each dataset\")\n",
    "dist_mat_list = run_gw.load_distances_global(distances_dir=distances_dir, data_prefix=data_prefix)\n",
    "t2 = time.time()\n",
    "print(\"Calculating GW distances between datasets\")\n",
    "run_gw.compute_and_save_GW_dist_mat(dist_mat_list, file_prefix, gw_results_dir, save_mat=True, num_cores=num_cores)\n",
    "t3 = time.time()\n",
    "print('Time to load distances: {:.3f}s'.format(t2 - t1))\n",
    "print('Time in GW calculation: {:.3f}s'.format(t3 - t2))\n",
    "print('Total time elapsed: {:.3f}s'.format(t3 - t1))"
   ]
  },
  {
   "cell_type": "markdown",
   "metadata": {},
   "source": [
    "# Save python_list_dir\n",
    "R and Python sort strings differently, so I save the python ordering in case I need to load the distance matrix into R"
   ]
  },
  {
   "cell_type": "code",
   "execution_count": 10,
   "metadata": {},
   "outputs": [],
   "source": [
    "pj = lambda *paths: os.path.abspath(os.path.join(*paths))\n",
    "distances_dir = os.path.abspath(\"../CAJAL/data/sampled_pts/swc_sampled_50\")\n",
    "data_prefix = \"a10_full\"\n",
    "files_list = os.listdir(distances_dir)\n",
    "files_list = [data_file for data_file in files_list\\\n",
    "              if data_prefix is None or data_file.startswith(data_prefix)]\n",
    "files_list.sort() # sort the list because sometimes os.listdir() result is not sorted\n",
    "list_dir_file = open(pj(distances_dir,\"python_list_dir.txt\"), \"w+\")\n",
    "for file_name in files_list:\n",
    "    list_dir_file.write(file_name+\"\\n\")\n",
    "list_dir_file.close()"
   ]
  },
  {
   "cell_type": "code",
   "execution_count": null,
   "metadata": {},
   "outputs": [],
   "source": []
  }
 ],
 "metadata": {
  "kernelspec": {
   "display_name": "Python 3 (ipykernel)",
   "language": "python",
   "name": "python3"
  },
  "language_info": {
   "codemirror_mode": {
    "name": "ipython",
    "version": 3
   },
   "file_extension": ".py",
   "mimetype": "text/x-python",
   "name": "python",
   "nbconvert_exporter": "python",
   "pygments_lexer": "ipython3",
   "version": "3.8.10"
  }
 },
 "nbformat": 4,
 "nbformat_minor": 4
}
