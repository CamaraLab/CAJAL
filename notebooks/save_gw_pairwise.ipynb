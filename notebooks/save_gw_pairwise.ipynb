{
 "cells": [
  {
   "cell_type": "code",
   "execution_count": 2,
   "metadata": {},
   "outputs": [],
   "source": [
    "import os\n",
    "import time\n",
    "\n",
    "from CAJAL.lib import run_gw"
   ]
  },
  {
   "cell_type": "markdown",
   "metadata": {},
   "source": [
    "# Compute Euclidean distance on set of points, then run GW"
   ]
  },
  {
   "cell_type": "code",
   "execution_count": 7,
   "metadata": {},
   "outputs": [],
   "source": [
    "# Set parameters\n",
    "data_dir = os.path.abspath('../CAJAL/tests/sampled_pts/example_euclidean/')\n",
    "gw_results_dir = os.path.abspath('../CAJAL/tests/gw_results')\n",
    "data_prefix = \"a10_full_50\" # Not required, but helpful if another file (like python_list_dir.txt) is in same folder\n",
    "num_cores = 12\n",
    "file_prefix = \"example_euclidean\""
   ]
  },
  {
   "cell_type": "code",
   "execution_count": 8,
   "metadata": {},
   "outputs": [
    {
     "name": "stdout",
     "output_type": "stream",
     "text": [
      "Calculating distances between points in each dataset\n",
      "Calculating GW distances between datasets\n",
      "Time to compute distances: 2.279s\n",
      "Time in GW calculation: 9.848s\n",
      "Total time elapsed: 12.127s\n"
     ]
    }
   ],
   "source": [
    "t1 = time.time()\n",
    "print(\"Calculating distances between points in each dataset\")\n",
    "dist_mat_list = run_gw.get_distances_all(data_dir=data_dir, data_prefix=data_prefix)\n",
    "t2 = time.time()\n",
    "print(\"Calculating GW distances between datasets\")\n",
    "run_gw.save_dist_mat_preload_global(dist_mat_list, file_prefix, gw_results_dir, save_mat=False, num_cores=num_cores)\n",
    "t3 = time.time()\n",
    "print('Time to compute distances: {:.3f}s'.format(t2 - t1))\n",
    "print('Time in GW calculation: {:.3f}s'.format(t3 - t2))\n",
    "print('Total time elapsed: {:.3f}s'.format(t3 - t1))"
   ]
  },
  {
   "cell_type": "markdown",
   "metadata": {},
   "source": [
    "# Run GW on precomputed distance (usually geodesic)"
   ]
  },
  {
   "cell_type": "code",
   "execution_count": 9,
   "metadata": {},
   "outputs": [],
   "source": [
    "# Set parameters\n",
    "distances_dir = os.path.abspath('../CAJAL/tests/sampled_pts/example_geodesic/')\n",
    "gw_results_dir = os.path.abspath('../CAJAL/tests/gw_results')\n",
    "data_prefix = \"a10_full_50\" # Not required, but helpful if another file (like python_list_dir.txt) is in same folder\n",
    "num_cores = 12\n",
    "file_prefix = \"example_geodesic\""
   ]
  },
  {
   "cell_type": "code",
   "execution_count": 11,
   "metadata": {},
   "outputs": [
    {
     "name": "stdout",
     "output_type": "stream",
     "text": [
      "Calculating distances between points in each dataset\n",
      "Calculating GW distances between datasets\n",
      "Time to load distances: 2.835s\n",
      "Time in GW calculation: 4.577s\n",
      "Total time elapsed: 7.412s\n"
     ]
    }
   ],
   "source": [
    "t1 = time.time()\n",
    "print(\"Calculating distances between points in each dataset\")\n",
    "dist_mat_list = run_gw.load_distances_global(distances_dir=distances_dir, data_prefix=data_prefix)\n",
    "t2 = time.time()\n",
    "print(\"Calculating GW distances between datasets\")\n",
    "run_gw.save_dist_mat_preload_global(dist_mat_list, file_prefix, gw_results_dir, save_mat=False, num_cores=num_cores)\n",
    "t3 = time.time()\n",
    "print('Time to load distances: {:.3f}s'.format(t2 - t1))\n",
    "print('Time in GW calculation: {:.3f}s'.format(t3 - t2))\n",
    "print('Total time elapsed: {:.3f}s'.format(t3 - t1))"
   ]
  },
  {
   "cell_type": "markdown",
   "metadata": {},
   "source": [
    "# Save python_list_dir\n",
    "R and Python sort strings differently, so I save the python ordering in case I need to load the distance matrix into R"
   ]
  },
  {
   "cell_type": "code",
   "execution_count": 6,
   "metadata": {},
   "outputs": [],
   "source": [
    "pj = lambda *paths: os.path.abspath(os.path.join(*paths))\n",
    "distances_dir = os.path.abspath(\"./sampled_pts/example_euclidean\")\n",
    "data_prefix = \"None\"\n",
    "files_list = os.listdir(distances_dir)\n",
    "files_list = [data_file for data_file in files_list\\\n",
    "              if data_prefix is None or data_file.startswith(data_prefix)]\n",
    "files_list.sort() # sort the list because sometimes os.listdir() result is not sorted\n",
    "list_dir_file = open(pj(distances_dir,\"python_list_dir.txt\"), \"w+\")\n",
    "for file_name in files_list:\n",
    "    list_dir_file.write(file_name+\"\\n\")\n",
    "list_dir_file.close()"
   ]
  }
 ],
 "metadata": {
  "kernelspec": {
   "display_name": "Python 3",
   "language": "python",
   "name": "python3"
  },
  "language_info": {
   "codemirror_mode": {
    "name": "ipython",
    "version": 3
   },
   "file_extension": ".py",
   "mimetype": "text/x-python",
   "name": "python",
   "nbconvert_exporter": "python",
   "pygments_lexer": "ipython3",
   "version": "3.7.3"
  }
 },
 "nbformat": 4,
 "nbformat_minor": 4
}
